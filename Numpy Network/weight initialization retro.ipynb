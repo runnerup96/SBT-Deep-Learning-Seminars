{
 "cells": [
  {
   "cell_type": "code",
   "execution_count": 14,
   "id": "ef87d277-334d-45bb-88e0-467c125071d7",
   "metadata": {
    "executionInfo": {
     "elapsed": 294,
     "status": "ok",
     "timestamp": 1646237040771,
     "user": {
      "displayName": "Олег Дмитриевич Сомов",
      "photoUrl": "https://lh3.googleusercontent.com/a/default-user=s64",
      "userId": "03877505905935419968"
     },
     "user_tz": -180
    },
    "id": "ef87d277-334d-45bb-88e0-467c125071d7"
   },
   "outputs": [],
   "source": [
    "import torch\n",
    "import math"
   ]
  },
  {
   "cell_type": "markdown",
   "id": "89c14fd2-a9e6-4bab-8f54-33e1113884f6",
   "metadata": {
    "id": "89c14fd2-a9e6-4bab-8f54-33e1113884f6"
   },
   "source": [
    "Рассмотрим стандартную нормальную иницализацию"
   ]
  },
  {
   "cell_type": "code",
   "execution_count": 16,
   "id": "682e6304-646a-4af2-b453-907b4cbabf0b",
   "metadata": {
    "colab": {
     "base_uri": "https://localhost:8080/"
    },
    "executionInfo": {
     "elapsed": 266,
     "status": "ok",
     "timestamp": 1646237055813,
     "user": {
      "displayName": "Олег Дмитриевич Сомов",
      "photoUrl": "https://lh3.googleusercontent.com/a/default-user=s64",
      "userId": "03877505905935419968"
     },
     "user_tz": -180
    },
    "id": "682e6304-646a-4af2-b453-907b4cbabf0b",
    "outputId": "bec6f50c-a785-4c04-ad6b-4f45c46bca4a"
   },
   "outputs": [
    {
     "data": {
      "text/plain": [
       "(tensor(nan), tensor(nan))"
      ]
     },
     "execution_count": 16,
     "metadata": {},
     "output_type": "execute_result"
    }
   ],
   "source": [
    "x = torch.randn(128)\n",
    "for i in range(100):\n",
    "    a = torch.randn(128,128)\n",
    "    x = a @ x\n",
    "\n",
    "x.mean(), x.std()"
   ]
  },
  {
   "cell_type": "markdown",
   "id": "7767aafd-770a-435e-8b14-dbd5eb63f10b",
   "metadata": {
    "id": "7767aafd-770a-435e-8b14-dbd5eb63f10b"
   },
   "source": [
    "Когда же у нас появляются такие веса?"
   ]
  },
  {
   "cell_type": "code",
   "execution_count": 17,
   "id": "3a02e309-595a-4375-b3ad-6912744f9184",
   "metadata": {
    "colab": {
     "base_uri": "https://localhost:8080/"
    },
    "executionInfo": {
     "elapsed": 254,
     "status": "ok",
     "timestamp": 1646237117866,
     "user": {
      "displayName": "Олег Дмитриевич Сомов",
      "photoUrl": "https://lh3.googleusercontent.com/a/default-user=s64",
      "userId": "03877505905935419968"
     },
     "user_tz": -180
    },
    "id": "3a02e309-595a-4375-b3ad-6912744f9184",
    "outputId": "4a384a44-2975-4475-ddcb-83eac5641434",
    "tags": []
   },
   "outputs": [
    {
     "data": {
      "text/plain": [
       "35"
      ]
     },
     "execution_count": 17,
     "metadata": {},
     "output_type": "execute_result"
    }
   ],
   "source": [
    "x = torch.randn(128)\n",
    "for i in range(100):\n",
    "    a = torch.randn(128,128)\n",
    "    x = a @ x\n",
    "    if torch.isnan(x.mean()):\n",
    "        break\n",
    "\n",
    "i"
   ]
  },
  {
   "cell_type": "markdown",
   "id": "1c650677-c774-44c2-b4f2-32902a8ddb1b",
   "metadata": {
    "id": "1c650677-c774-44c2-b4f2-32902a8ddb1b"
   },
   "source": [
    "Теперь уменьшим нашу инициализацию"
   ]
  },
  {
   "cell_type": "code",
   "execution_count": 18,
   "id": "e892f308-557d-4375-a79c-f7529c3a3687",
   "metadata": {
    "colab": {
     "base_uri": "https://localhost:8080/"
    },
    "executionInfo": {
     "elapsed": 380,
     "status": "ok",
     "timestamp": 1646237131700,
     "user": {
      "displayName": "Олег Дмитриевич Сомов",
      "photoUrl": "https://lh3.googleusercontent.com/a/default-user=s64",
      "userId": "03877505905935419968"
     },
     "user_tz": -180
    },
    "id": "e892f308-557d-4375-a79c-f7529c3a3687",
    "outputId": "4566495d-c71d-4505-9bda-ace3e2ec0f6a"
   },
   "outputs": [
    {
     "data": {
      "text/plain": [
       "(tensor(0.), tensor(0.))"
      ]
     },
     "execution_count": 18,
     "metadata": {},
     "output_type": "execute_result"
    }
   ],
   "source": [
    "x = torch.randn(128)\n",
    "for i in range(100):\n",
    "    a = torch.randn(128,128) * 0.01\n",
    "    x = a @ x\n",
    "\n",
    "x.mean(), x.std()"
   ]
  },
  {
   "cell_type": "markdown",
   "id": "564fb1aa-226a-426f-835b-e3c477dba535",
   "metadata": {
    "id": "564fb1aa-226a-426f-835b-e3c477dba535"
   },
   "source": [
    "Стандартное отклонение дисперсии выхода каждого слоя приблизительно равно корню из количества входных нейронов."
   ]
  },
  {
   "cell_type": "code",
   "execution_count": 20,
   "id": "936a6042-03b0-4ed6-9683-972950403558",
   "metadata": {
    "colab": {
     "base_uri": "https://localhost:8080/"
    },
    "executionInfo": {
     "elapsed": 408,
     "status": "ok",
     "timestamp": 1646237208254,
     "user": {
      "displayName": "Олег Дмитриевич Сомов",
      "photoUrl": "https://lh3.googleusercontent.com/a/default-user=s64",
      "userId": "03877505905935419968"
     },
     "user_tz": -180
    },
    "id": "936a6042-03b0-4ed6-9683-972950403558",
    "outputId": "e02cc70f-98d9-462d-ffd8-18889a41eb93"
   },
   "outputs": [
    {
     "data": {
      "text/plain": [
       "(11.33242086581917, 11.313708498984761)"
      ]
     },
     "execution_count": 20,
     "metadata": {},
     "output_type": "execute_result"
    }
   ],
   "source": [
    "mean, var = 0, 0 \n",
    "for i in range(1000):\n",
    "    x = torch.randn(128)\n",
    "    a = torch.randn(128,128)\n",
    "    y = a @ x\n",
    "    mean += y.mean().item()\n",
    "    var += y.pow(2).mean().item()\n",
    "    \n",
    "math.sqrt(var/1000), math.sqrt(128)"
   ]
  },
  {
   "cell_type": "markdown",
   "id": "cfe19105-6fd0-4daa-8146-a7f7822942a0",
   "metadata": {},
   "source": [
    "Значения до применения активаций  $z_j$ для нейрона $ j $:\n",
    "\n",
    "\n",
    "$z_j = \\sum_{i=1}^{n_{\\text{in}}} W_{ji} x_i$\n",
    "\n",
    "$x_i$ и $W_{ji}$  **независимы**, поэтому:\n",
    "\n",
    "$\\text{Var}(z_j) = \\sum_{i=1}^{n_{\\text{in}}} \\text{Var}(W_{ji} x_i)$\n",
    "\n",
    "\n",
    "Перепишем:\n",
    "\n",
    "$\\text{Var}(z_j) = \\sum_{i=1}^{n_{\\text{in}}} \\sigma_W^2 \\sigma_x^2 = n_{\\text{in}} \\sigma_W^2 \\sigma_x^2$ (сумма дисперсии по каждой строке для $W$)\n",
    "\n",
    "Мы хотим, чтобы распреление данных входа было равно распределению на выходе:\n",
    "\n",
    "$\\text{Var}(z_j) = \\sigma_x^2$\n",
    "\n",
    "Выписывая $n_{\\text{in}} \\sigma_W^2 \\sigma_x^2 = \\sigma_x^2 $,решаем для $ \\sigma_W^2 $:\n",
    "\n",
    "$\\sigma_W^2 = \\frac{1}{n_{\\text{in}}} $\n",
    "\n"
   ]
  },
  {
   "cell_type": "markdown",
   "id": "38e088d4-6a80-4d62-83e0-b89d5722a122",
   "metadata": {
    "id": "38e088d4-6a80-4d62-83e0-b89d5722a122"
   },
   "source": [
    "Проверим на 1"
   ]
  },
  {
   "cell_type": "code",
   "execution_count": 21,
   "id": "64dd1d53-bf0a-4b8c-8869-6a85ff780dd5",
   "metadata": {
    "colab": {
     "base_uri": "https://localhost:8080/"
    },
    "executionInfo": {
     "elapsed": 294,
     "status": "ok",
     "timestamp": 1646237225715,
     "user": {
      "displayName": "Олег Дмитриевич Сомов",
      "photoUrl": "https://lh3.googleusercontent.com/a/default-user=s64",
      "userId": "03877505905935419968"
     },
     "user_tz": -180
    },
    "id": "64dd1d53-bf0a-4b8c-8869-6a85ff780dd5",
    "outputId": "d824bd7f-24dc-4a83-822c-64eed7f5916b"
   },
   "outputs": [
    {
     "data": {
      "text/plain": [
       "1.015961416795791"
      ]
     },
     "execution_count": 21,
     "metadata": {},
     "output_type": "execute_result"
    }
   ],
   "source": [
    "mean, var = 0, 0 \n",
    "for i in range(1000):\n",
    "    x = torch.randn(1)\n",
    "    a = torch.randn(1)\n",
    "    y = a * x\n",
    "    mean += y.mean().item()\n",
    "    var += y.pow(2).item()\n",
    "    \n",
    "math.sqrt(var/1000)"
   ]
  },
  {
   "cell_type": "markdown",
   "id": "9f471010-b301-4f78-8521-0fa8f63191d1",
   "metadata": {
    "id": "9f471010-b301-4f78-8521-0fa8f63191d1"
   },
   "source": [
    "Вывод - давайте нормализовать каждый слой на корень из количества входных нейронов"
   ]
  },
  {
   "cell_type": "code",
   "execution_count": 22,
   "id": "1bb6ea41-b485-41a4-9722-a72bd30298bc",
   "metadata": {
    "colab": {
     "base_uri": "https://localhost:8080/"
    },
    "executionInfo": {
     "elapsed": 263,
     "status": "ok",
     "timestamp": 1646237249963,
     "user": {
      "displayName": "Олег Дмитриевич Сомов",
      "photoUrl": "https://lh3.googleusercontent.com/a/default-user=s64",
      "userId": "03877505905935419968"
     },
     "user_tz": -180
    },
    "id": "1bb6ea41-b485-41a4-9722-a72bd30298bc",
    "outputId": "85de2e25-f403-48ff-d29b-88bf48577b17"
   },
   "outputs": [
    {
     "data": {
      "text/plain": [
       "(tensor(-0.0072), tensor(0.1790))"
      ]
     },
     "execution_count": 22,
     "metadata": {},
     "output_type": "execute_result"
    }
   ],
   "source": [
    "x = torch.randn(128)\n",
    "for i in range(1000):\n",
    "    a = torch.randn(128,128) * math.sqrt(1/128)\n",
    "    x = a @ x\n",
    "    \n",
    "x.mean(), x.std()"
   ]
  },
  {
   "cell_type": "code",
   "execution_count": 23,
   "id": "78952a75-1222-4647-b5ae-ec5f9c38bb80",
   "metadata": {
    "collapsed": true,
    "executionInfo": {
     "elapsed": 5,
     "status": "ok",
     "timestamp": 1646227026839,
     "user": {
      "displayName": "Олег Дмитриевич Сомов",
      "photoUrl": "https://lh3.googleusercontent.com/a/default-user=s64",
      "userId": "03877505905935419968"
     },
     "user_tz": -180
    },
    "id": "78952a75-1222-4647-b5ae-ec5f9c38bb80",
    "jupyter": {
     "outputs_hidden": true
    },
    "tags": []
   },
   "outputs": [
    {
     "data": {
      "text/plain": [
       "tensor([ 2.5014e-01,  1.3446e-01, -2.3238e-01,  8.6074e-03, -6.0112e-02,\n",
       "         4.2212e-01, -2.5839e-01, -9.9810e-03,  2.5922e-01,  2.2621e-01,\n",
       "        -2.6025e-01, -2.5173e-01,  7.3547e-02, -1.7332e-02, -1.2269e-01,\n",
       "        -4.2060e-01,  2.1054e-01,  7.4447e-02,  2.8893e-01,  2.2744e-01,\n",
       "         9.4124e-02, -2.4312e-02,  2.9872e-01,  2.4650e-01,  5.8994e-02,\n",
       "         5.7025e-02, -1.9131e-01, -6.1351e-02,  8.8850e-02, -2.4190e-01,\n",
       "         5.2480e-02,  3.8885e-01,  6.6200e-03, -2.3647e-01,  2.1772e-01,\n",
       "         1.6629e-01,  2.5183e-02,  6.6195e-02, -1.4505e-01, -1.6593e-01,\n",
       "         2.4484e-01,  2.0980e-01,  1.3511e-01, -3.7339e-02,  7.5982e-02,\n",
       "         1.0937e-01,  8.1519e-02, -3.1813e-01,  5.9521e-02,  8.1355e-02,\n",
       "         1.0061e-01, -1.6339e-01, -1.8832e-01, -1.8787e-01, -3.1846e-01,\n",
       "         1.9250e-01, -7.3521e-02,  1.4589e-01,  3.3394e-02, -1.0247e-01,\n",
       "         2.9026e-02, -1.5536e-01,  2.7931e-02, -4.3419e-02, -1.8210e-01,\n",
       "        -2.6615e-01, -1.1160e-01, -3.2862e-04, -3.1239e-01, -9.7729e-02,\n",
       "        -2.0609e-01, -1.8445e-02,  1.4236e-01,  9.2959e-02, -1.0205e-01,\n",
       "         4.9841e-02,  7.7029e-02,  6.8713e-02, -6.4701e-02,  6.9570e-02,\n",
       "        -1.5702e-01,  1.8904e-01, -2.2115e-01,  1.9815e-01, -4.0358e-01,\n",
       "         7.3299e-02,  7.4687e-02,  2.7774e-01,  9.8695e-02,  1.2553e-01,\n",
       "        -1.2334e-01,  1.0451e-01, -4.7313e-01, -2.2217e-01,  9.2478e-02,\n",
       "        -1.3794e-01,  1.8795e-01, -4.0618e-02, -4.5572e-02, -8.8590e-02,\n",
       "         2.5608e-01, -1.5508e-01, -1.7780e-01, -7.2261e-02, -9.6918e-02,\n",
       "        -1.2778e-01,  2.0154e-01,  6.5457e-02, -8.4763e-02,  1.0492e-01,\n",
       "         6.9788e-02,  3.2315e-01, -9.9250e-02,  5.5836e-03, -4.9337e-02,\n",
       "        -5.0748e-02, -3.5757e-01,  1.2227e-01, -1.2880e-01, -1.4271e-01,\n",
       "        -8.6580e-02, -1.1785e-01, -1.1143e-01,  8.9371e-02,  7.9470e-02,\n",
       "        -3.7724e-01,  2.0171e-01, -3.0834e-02])"
      ]
     },
     "execution_count": 23,
     "metadata": {},
     "output_type": "execute_result"
    }
   ],
   "source": [
    "x"
   ]
  },
  {
   "cell_type": "markdown",
   "id": "f0bfefae-cebf-48d4-b6be-941e5288a645",
   "metadata": {
    "id": "f0bfefae-cebf-48d4-b6be-941e5288a645"
   },
   "source": [
    "А раньше использовали равномерное распределение"
   ]
  },
  {
   "cell_type": "code",
   "execution_count": 26,
   "id": "3b3f52b6-b948-4434-a130-1cd2904e9b62",
   "metadata": {
    "colab": {
     "base_uri": "https://localhost:8080/"
    },
    "executionInfo": {
     "elapsed": 273,
     "status": "ok",
     "timestamp": 1646237464768,
     "user": {
      "displayName": "Олег Дмитриевич Сомов",
      "photoUrl": "https://lh3.googleusercontent.com/a/default-user=s64",
      "userId": "03877505905935419968"
     },
     "user_tz": -180
    },
    "id": "3b3f52b6-b948-4434-a130-1cd2904e9b62",
    "outputId": "62c8c57c-7919-4cb5-bb17-8c2f35c40382"
   },
   "outputs": [
    {
     "data": {
      "text/plain": [
       "(tensor(3.2702e-26), tensor(4.6586e-25))"
      ]
     },
     "execution_count": 26,
     "metadata": {},
     "output_type": "execute_result"
    }
   ],
   "source": [
    "x = torch.randn(128)\n",
    "\n",
    "for i in range(100):\n",
    "    a = torch.Tensor(128, 128).uniform_(-1,1) * math.sqrt(1/128)\n",
    "    x = torch.tanh(a@x)\n",
    "    \n",
    "x.mean(), x.std()"
   ]
  },
  {
   "cell_type": "markdown",
   "id": "b1059baa-88bd-49ac-9d87-2175f124d194",
   "metadata": {
    "id": "b1059baa-88bd-49ac-9d87-2175f124d194"
   },
   "source": [
    "Попробуем наш подход"
   ]
  },
  {
   "cell_type": "code",
   "execution_count": 27,
   "id": "8749a2b6-341d-4941-baa9-a95272328f13",
   "metadata": {
    "colab": {
     "base_uri": "https://localhost:8080/"
    },
    "executionInfo": {
     "elapsed": 244,
     "status": "ok",
     "timestamp": 1646237484773,
     "user": {
      "displayName": "Олег Дмитриевич Сомов",
      "photoUrl": "https://lh3.googleusercontent.com/a/default-user=s64",
      "userId": "03877505905935419968"
     },
     "user_tz": -180
    },
    "id": "8749a2b6-341d-4941-baa9-a95272328f13",
    "outputId": "2895d21f-90ad-44f7-8c08-e2ed6fb06c15"
   },
   "outputs": [
    {
     "data": {
      "text/plain": [
       "(tensor(-8.5019e-05), tensor(0.0014))"
      ]
     },
     "execution_count": 27,
     "metadata": {},
     "output_type": "execute_result"
    }
   ],
   "source": [
    "x = torch.randn(128)\n",
    "for i in range(1000):\n",
    "    a = torch.randn(128,128) * math.sqrt(1/128)\n",
    "    x = torch.tanh(a @ x)\n",
    "    \n",
    "x.mean(), x.std()"
   ]
  },
  {
   "cell_type": "markdown",
   "id": "54676e96-f238-4a87-b0cc-080857e355ae",
   "metadata": {
    "id": "54676e96-f238-4a87-b0cc-080857e355ae"
   },
   "source": [
    "Статья http://proceedings.mlr.press/v9/glorot10a/glorot10a.pdf?hc_location=ufi - позволила лучше работать с нелинейностями"
   ]
  },
  {
   "cell_type": "code",
   "execution_count": 28,
   "id": "23dd9698-6c02-42ab-9732-23a2a33f2aae",
   "metadata": {
    "colab": {
     "base_uri": "https://localhost:8080/"
    },
    "executionInfo": {
     "elapsed": 277,
     "status": "ok",
     "timestamp": 1646237505273,
     "user": {
      "displayName": "Олег Дмитриевич Сомов",
      "photoUrl": "https://lh3.googleusercontent.com/a/default-user=s64",
      "userId": "03877505905935419968"
     },
     "user_tz": -180
    },
    "id": "23dd9698-6c02-42ab-9732-23a2a33f2aae",
    "outputId": "6d9f2dfc-6d6b-42ac-cc90-6ab85b66bc99"
   },
   "outputs": [
    {
     "data": {
      "text/plain": [
       "(tensor(0.0015), tensor(0.0283))"
      ]
     },
     "execution_count": 28,
     "metadata": {},
     "output_type": "execute_result"
    }
   ],
   "source": [
    "def xavier_uniform(n,k):\n",
    "    return torch.Tensor(n,k).uniform_(-1,1)*math.sqrt(6/(n+k))\n",
    "\n",
    "def xavier_normal(n,k):\n",
    "    return torch.normal(0, math.sqrt(3/(n+k)), size=(n, k))\n",
    "\n",
    "x = torch.randn(128)\n",
    "\n",
    "for i in range(100):\n",
    "    a = xavier_uniform(128, 128)\n",
    "    x = torch.tanh(a@x)\n",
    "    \n",
    "x.mean(), x.std()"
   ]
  },
  {
   "cell_type": "markdown",
   "id": "9b2eaaed-2911-4038-a39e-cab613cb0b45",
   "metadata": {
    "id": "9b2eaaed-2911-4038-a39e-cab613cb0b45"
   },
   "source": [
    "Пока не изобрели ReLu - все опять поплыло"
   ]
  },
  {
   "cell_type": "code",
   "execution_count": 29,
   "id": "087f39aa-dc6f-46de-9d84-11ace0a5585a",
   "metadata": {
    "colab": {
     "base_uri": "https://localhost:8080/"
    },
    "executionInfo": {
     "elapsed": 238,
     "status": "ok",
     "timestamp": 1646237542398,
     "user": {
      "displayName": "Олег Дмитриевич Сомов",
      "photoUrl": "https://lh3.googleusercontent.com/a/default-user=s64",
      "userId": "03877505905935419968"
     },
     "user_tz": -180
    },
    "id": "087f39aa-dc6f-46de-9d84-11ace0a5585a",
    "outputId": "1b2f8f45-c598-41dc-ba6a-5d930368af16"
   },
   "outputs": [
    {
     "data": {
      "text/plain": [
       "(tensor(2.4331e-16), tensor(3.4858e-16))"
      ]
     },
     "execution_count": 29,
     "metadata": {},
     "output_type": "execute_result"
    }
   ],
   "source": [
    "x = torch.randn(128)\n",
    "\n",
    "for i in range(100):\n",
    "    a = xavier_uniform(128, 128)\n",
    "    x = (a@x).clamp_min(0)\n",
    "    \n",
    "x.mean(), x.std()"
   ]
  },
  {
   "cell_type": "markdown",
   "id": "230f9d39-d12f-4a97-a0ef-89a1cc6006ed",
   "metadata": {
    "id": "230f9d39-d12f-4a97-a0ef-89a1cc6006ed"
   },
   "source": [
    "В статье Kaiming He https://arxiv.org/pdf/1502.01852v1.pdf предлагает домножать стандартное отклонение на $\\sqrt 2$"
   ]
  },
  {
   "cell_type": "code",
   "execution_count": 46,
   "id": "68f122ac-1382-441c-bc01-3f0536f443e9",
   "metadata": {
    "colab": {
     "base_uri": "https://localhost:8080/"
    },
    "executionInfo": {
     "elapsed": 7,
     "status": "ok",
     "timestamp": 1646227027594,
     "user": {
      "displayName": "Олег Дмитриевич Сомов",
      "photoUrl": "https://lh3.googleusercontent.com/a/default-user=s64",
      "userId": "03877505905935419968"
     },
     "user_tz": -180
    },
    "id": "68f122ac-1382-441c-bc01-3f0536f443e9",
    "outputId": "3e8c6513-bd47-4fe8-cef9-805699101a1a"
   },
   "outputs": [
    {
     "data": {
      "text/plain": [
       "(tensor(0.0624), tensor(0.0949))"
      ]
     },
     "execution_count": 46,
     "metadata": {},
     "output_type": "execute_result"
    }
   ],
   "source": [
    "def kaiming(n,k):\n",
    "    return torch.normal(0, math.sqrt(2/n), size=(n, k))\n",
    "\n",
    "x = torch.randn(128)\n",
    "\n",
    "for i in range(100):\n",
    "    a = kaiming(128, 128)\n",
    "    x = (a@x).clamp_min(0)\n",
    "    \n",
    "x.mean(), x.std()"
   ]
  },
  {
   "cell_type": "markdown",
   "id": "1aa23d01-102a-4afa-af8b-2c439ecf4989",
   "metadata": {
    "id": "1aa23d01-102a-4afa-af8b-2c439ecf4989"
   },
   "source": [
    "Также неплохо работает с другими нелинейностями"
   ]
  },
  {
   "cell_type": "code",
   "execution_count": 47,
   "id": "212df158-7a74-4a52-a3c7-085e67c0e099",
   "metadata": {
    "colab": {
     "base_uri": "https://localhost:8080/"
    },
    "executionInfo": {
     "elapsed": 6,
     "status": "ok",
     "timestamp": 1646227027594,
     "user": {
      "displayName": "Олег Дмитриевич Сомов",
      "photoUrl": "https://lh3.googleusercontent.com/a/default-user=s64",
      "userId": "03877505905935419968"
     },
     "user_tz": -180
    },
    "id": "212df158-7a74-4a52-a3c7-085e67c0e099",
    "outputId": "3be6e7db-b81e-42f6-ece9-55d4279c0fb5"
   },
   "outputs": [
    {
     "data": {
      "text/plain": [
       "(tensor(0.0034), tensor(0.5260))"
      ]
     },
     "execution_count": 47,
     "metadata": {},
     "output_type": "execute_result"
    }
   ],
   "source": [
    "x = torch.randn(128)\n",
    "\n",
    "for i in range(100):\n",
    "    a = kaiming(128, 128)\n",
    "    x = torch.tanh(a@x)\n",
    "    \n",
    "x.mean(), x.std()"
   ]
  },
  {
   "cell_type": "code",
   "execution_count": null,
   "id": "b2c7f905-fdf9-47ab-a29e-301d827d838c",
   "metadata": {},
   "outputs": [],
   "source": []
  }
 ],
 "metadata": {
  "colab": {
   "name": "weight initialization retro.ipynb",
   "provenance": []
  },
  "kernelspec": {
   "display_name": "Python 3 (ipykernel)",
   "language": "python",
   "name": "python3"
  },
  "language_info": {
   "codemirror_mode": {
    "name": "ipython",
    "version": 3
   },
   "file_extension": ".py",
   "mimetype": "text/x-python",
   "name": "python",
   "nbconvert_exporter": "python",
   "pygments_lexer": "ipython3",
   "version": "3.9.7"
  }
 },
 "nbformat": 4,
 "nbformat_minor": 5
}
