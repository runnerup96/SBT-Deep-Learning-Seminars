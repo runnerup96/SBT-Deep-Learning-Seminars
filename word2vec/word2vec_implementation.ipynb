{
 "cells": [
  {
   "cell_type": "code",
   "execution_count": 1,
   "metadata": {
    "collapsed": true,
    "jupyter": {
     "outputs_hidden": true
    },
    "tags": []
   },
   "outputs": [
    {
     "name": "stdout",
     "output_type": "stream",
     "text": [
      "Requirement already satisfied: corus in /home/user/conda/envs/zhavoronkin_word2vec/lib/python3.9/site-packages (0.10.0)\n",
      "Requirement already satisfied: colorama in /home/user/conda/envs/zhavoronkin_word2vec/lib/python3.9/site-packages (0.4.6)\n",
      "Requirement already satisfied: natasha in /home/user/conda/envs/zhavoronkin_word2vec/lib/python3.9/site-packages (1.6.0)\n",
      "Requirement already satisfied: pymorphy2 in /home/user/conda/envs/zhavoronkin_word2vec/lib/python3.9/site-packages (from natasha) (0.9.1)\n",
      "Requirement already satisfied: razdel>=0.5.0 in /home/user/conda/envs/zhavoronkin_word2vec/lib/python3.9/site-packages (from natasha) (0.5.0)\n",
      "Requirement already satisfied: navec>=0.9.0 in /home/user/conda/envs/zhavoronkin_word2vec/lib/python3.9/site-packages (from natasha) (0.10.0)\n",
      "Requirement already satisfied: slovnet>=0.6.0 in /home/user/conda/envs/zhavoronkin_word2vec/lib/python3.9/site-packages (from natasha) (0.6.0)\n",
      "Requirement already satisfied: yargy>=0.16.0 in /home/user/conda/envs/zhavoronkin_word2vec/lib/python3.9/site-packages (from natasha) (0.16.0)\n",
      "Requirement already satisfied: ipymarkup>=0.8.0 in /home/user/conda/envs/zhavoronkin_word2vec/lib/python3.9/site-packages (from natasha) (0.9.0)\n",
      "Requirement already satisfied: intervaltree>=3 in /home/user/conda/envs/zhavoronkin_word2vec/lib/python3.9/site-packages (from ipymarkup>=0.8.0->natasha) (3.1.0)\n",
      "Requirement already satisfied: numpy in /home/user/conda/envs/zhavoronkin_word2vec/lib/python3.9/site-packages (from navec>=0.9.0->natasha) (1.26.4)\n",
      "Requirement already satisfied: dawg-python>=0.7.1 in /home/user/conda/envs/zhavoronkin_word2vec/lib/python3.9/site-packages (from pymorphy2->natasha) (0.7.2)\n",
      "Requirement already satisfied: pymorphy2-dicts-ru<3.0,>=2.4 in /home/user/conda/envs/zhavoronkin_word2vec/lib/python3.9/site-packages (from pymorphy2->natasha) (2.4.417127.4579844)\n",
      "Requirement already satisfied: docopt>=0.6 in /home/user/conda/envs/zhavoronkin_word2vec/lib/python3.9/site-packages (from pymorphy2->natasha) (0.6.2)\n",
      "Requirement already satisfied: sortedcontainers<3.0,>=2.0 in /home/user/conda/envs/zhavoronkin_word2vec/lib/python3.9/site-packages (from intervaltree>=3->ipymarkup>=0.8.0->natasha) (2.4.0)\n"
     ]
    }
   ],
   "source": [
    "! pip install corus\n",
    "! pip install colorama\n",
    "! pip install natasha"
   ]
  },
  {
   "cell_type": "code",
   "execution_count": 2,
   "metadata": {
    "id": "t3LmI-2feYzZ"
   },
   "outputs": [],
   "source": [
    "import os\n",
    "import re\n",
    "import numpy as np\n",
    "import torch\n",
    "import torch.nn as nn\n",
    "import torch.optim as optim\n",
    "from torch.utils.data import Dataset, DataLoader\n",
    "import torch.nn.functional as F\n",
    "import pandas as pd\n",
    "import matplotlib.pyplot as plt\n",
    "import random\n",
    "from torch.nn import init\n",
    "from sklearn.decomposition import TruncatedSVD\n",
    "from tqdm import tqdm\n",
    "\n",
    "import pickle\n",
    "from collections import Counter\n",
    "from corus import load_lenta\n",
    "from colorama import Fore"
   ]
  },
  {
   "cell_type": "code",
   "execution_count": 3,
   "metadata": {},
   "outputs": [],
   "source": [
    "def set_random_seed(seed=42):\n",
    "    torch.manual_seed(seed)\n",
    "    torch.cuda.manual_seed_all(seed)\n",
    "    torch.backends.cudnn.deterministic = True\n",
    "    torch.backends.cudnn.benchmark = False\n",
    "    np.random.seed(seed)\n",
    "    random.seed(seed)"
   ]
  },
  {
   "cell_type": "markdown",
   "metadata": {},
   "source": [
    "### Notebook Constants"
   ]
  },
  {
   "cell_type": "code",
   "execution_count": 4,
   "metadata": {},
   "outputs": [
    {
     "name": "stdout",
     "output_type": "stream",
     "text": [
      "cuda\n"
     ]
    }
   ],
   "source": [
    "BATCH_SIZE = 1024\n",
    "PASSES_SIZE = 10000\n",
    "NUM_WORKERS = 8\n",
    "DEVICE = 'cuda' if torch.cuda.is_available() else 'cpu'\n",
    "print(DEVICE)"
   ]
  },
  {
   "cell_type": "markdown",
   "metadata": {},
   "source": [
    "### Vizualization Utils"
   ]
  },
  {
   "cell_type": "code",
   "execution_count": 5,
   "metadata": {},
   "outputs": [],
   "source": [
    "def reduce_to_k_dim(M, k=2):\n",
    "    n_iters = 10 \n",
    "    trunc_svd = TruncatedSVD(n_components=k, n_iter=n_iters, random_state=42)\n",
    "    M_reduced = trunc_svd.fit_transform(M)\n",
    "    return M_reduced\n",
    "\n",
    "\n",
    "def plot_embeddings(embedding_matrix, words):\n",
    "    assert embedding_matrix.shape[1] == 2\n",
    "\n",
    "    plt.figure(num=None, figsize=(7, 7), dpi=80, facecolor='w', edgecolor='k')\n",
    "\n",
    "    x_values = embedding_matrix[:,0]\n",
    "    y_values = embedding_matrix[:,1]\n",
    "    for i, word in enumerate(words):\n",
    "        x = x_values[i]\n",
    "        y = y_values[i]\n",
    "        plt.scatter(x, y, marker='x', color='red')\n",
    "        plt.text(x, y, word, fontsize=9)\n",
    "    plt.show()\n",
    "\n",
    "def similarity(model, x):\n",
    "    w = model.embeddings.weight[model.word2idx[x]]\n",
    "    topk = F.cosine_similarity(w, model.embeddings.weight).topk(10)\n",
    "    for sim, idx in zip(topk.values, topk.indices):\n",
    "        print(f'{sim:.3f}: {model.idx2word[idx.item()]}')\n",
    "\n",
    "def vector_math(model, x, y, z):\n",
    "    '''\n",
    "    Выводит топ 4 ближайших слова (кроме ближайшего, тк оно слишком тревиально) \n",
    "    в результаты векторной операции {x} - {y} + {z} над эмбеддингами слов\n",
    "    '''\n",
    "    w = model.embeddings.weight[model.word2idx[x]] \\\n",
    "            - model.embeddings.weight[model.word2idx[y]] \\\n",
    "                + model.embeddings.weight[model.word2idx[z]]\n",
    "    topk = F.cosine_similarity(w, model.embeddings.weight).topk(5)\n",
    "    print(f'{x} - {y} + {z} = {{', end='')\n",
    "    print(*[model.idx2word[idx.item()] for idx in topk.indices[1:]], sep=' | ', end='}')"
   ]
  },
  {
   "cell_type": "markdown",
   "metadata": {},
   "source": [
    "### Dataset"
   ]
  },
  {
   "cell_type": "code",
   "execution_count": 6,
   "metadata": {},
   "outputs": [],
   "source": [
    "class Word2vecDataset(Dataset):\n",
    "\n",
    "    def __init__(self, dataset, window_size, hard_negative):\n",
    "        \n",
    "        self.dataset = dataset\n",
    "        self.window_size = window_size\n",
    "        self.corpus_words = list({x for text in dataset for x in text.split(' ')})\n",
    "        self.word2idx = {word:idx for idx, word in enumerate(self.corpus_words)}\n",
    "        self.idx2word = {idx:word for word, idx in self.word2idx.items()}\n",
    "        self.hard_negative = hard_negative        \n",
    "        return\n",
    "\n",
    "    def __len__(self):\n",
    "        return PASSES_SIZE\n",
    "\n",
    "    def __getitem__(self, idx):\n",
    "\n",
    "        while True:\n",
    "            idx, idx_neg = np.random.choice(len(self.dataset), replace=False, size=2)\n",
    "            sentence = self.dataset[idx]\n",
    "            words = sentence.split()\n",
    "            central_i = np.random.randint(len(words))\n",
    "            window = range(max(0, central_i-self.window_size), min(central_i + self.window_size, len(words)-1))\n",
    "            context_i = np.random.choice(list(set(window) - {central_i}))\n",
    "            central = self.word2idx[words[central_i]]\n",
    "            context = self.word2idx[words[context_i]]\n",
    "\n",
    "            if words[central_i] != '<UNK>' and words[context_i] != '<UNK>':\n",
    "                break\n",
    "\n",
    "        if self.hard_negative:\n",
    "            sentence = self.dataset[idx_neg]\n",
    "            words = sentence.split()\n",
    "            negative = self.word2idx[np.random.choice([x for x in words if x != '<UNK>'])]\n",
    "\n",
    "        else:\n",
    "            negative = []\n",
    "        \n",
    "        return torch.tensor(central), torch.tensor(context), torch.tensor(negative)\n",
    "    \n",
    "\n",
    "def test(dataset, window_size=2, examples=5, hard_negative=False):\n",
    "    w2v_dataset = Word2vecDataset(dataset, window_size=window_size, hard_negative=True)\n",
    "\n",
    "    for i in range(examples):\n",
    "        central, context, negative = w2v_dataset[i]\n",
    "        if hard_negative:\n",
    "            central, context, negative = [w2v_dataset.idx2word[x.item()] for x in (central, context, negative)]\n",
    "            print(Fore.BLACK + central, Fore.GREEN+context, Fore.RED+negative)\n",
    "        else:\n",
    "            central, context = [w2v_dataset.idx2word[x.item()] for x in (central, context)]\n",
    "            print(Fore.BLACK + central, Fore.GREEN+context)"
   ]
  },
  {
   "cell_type": "markdown",
   "metadata": {},
   "source": [
    "### Поиск эмбеддинга слова\n",
    "\n",
    "![look_up_table example](https://neuro.cs.ut.ee/wp-content/uploads/2018/09/embeddings.png)"
   ]
  },
  {
   "cell_type": "markdown",
   "metadata": {},
   "source": [
    "### Архитектура skip-gram W2V\n",
    "\n",
    "\n",
    "![skip_gram](https://static-01.hindawi.com/articles/wcmc/volume-2019/2121850/figures/2121850.fig.002b.svgz)"
   ]
  },
  {
   "cell_type": "markdown",
   "metadata": {},
   "source": [
    "### Vanilla Skip-Gram"
   ]
  },
  {
   "cell_type": "code",
   "execution_count": 7,
   "metadata": {},
   "outputs": [],
   "source": [
    "class SkipGramModelVanilla(nn.Module):\n",
    "    \n",
    "    def __init__(self, vocab_size, embed_dim):\n",
    "        super().__init__()\n",
    "        self.embeddings = nn.Embedding(\n",
    "            num_embeddings=vocab_size,\n",
    "            embedding_dim=embed_dim,\n",
    "            max_norm=1.0\n",
    "        )\n",
    "        self.linear = nn.Linear(\n",
    "            in_features=embed_dim,\n",
    "            out_features=vocab_size,\n",
    "        )\n",
    "    def forward(self, word_inds):\n",
    "        x = self.embeddings(word_inds)\n",
    "        x = self.linear(x)\n",
    "        return x"
   ]
  },
  {
   "cell_type": "code",
   "execution_count": 8,
   "metadata": {},
   "outputs": [],
   "source": [
    "def train_vanilla_skip_gram(dataset, epochs=100, lr=1e-2, window_size=2, embed_dim=100):\n",
    "    \n",
    "    set_random_seed()\n",
    "\n",
    "    w2v_dataset = Word2vecDataset(dataset, window_size=window_size, hard_negative=False)\n",
    "    w2v_dataloader = DataLoader(w2v_dataset, batch_size=BATCH_SIZE, num_workers=NUM_WORKERS)\n",
    "\n",
    "    model = SkipGramModelVanilla(vocab_size=len(w2v_dataset.corpus_words), embed_dim=embed_dim)\n",
    "    model.to(DEVICE)\n",
    "    optimizer = optim.Adam(model.parameters(), lr=lr)\n",
    "    scheduler = optim.lr_scheduler.CosineAnnealingLR(optimizer, T_max=epochs)\n",
    "    average_loss = np.inf\n",
    "    loss_array = []\n",
    "    for epoch in range(epochs):\n",
    "        for batch in tqdm(w2v_dataloader, desc=f'epoch: {epoch} loss: {average_loss:.3f}', leave=False):\n",
    "            central, context, _ = batch\n",
    "            central, context = central.to(DEVICE), context.to(DEVICE)\n",
    "            output = model(central)\n",
    "\n",
    "            loss = F.cross_entropy(output, context)\n",
    "            optimizer.zero_grad()\n",
    "            loss.backward()\n",
    "            optimizer.step()\n",
    "\n",
    "            average_loss = loss.item() if average_loss == np.inf else 0.9 * average_loss + 0.1 * loss.item()\n",
    "            loss_array.append(loss.item())\n",
    "\n",
    "        scheduler.step()\n",
    "\n",
    "    plt.plot(loss_array)\n",
    "    model.word2idx = w2v_dataset.word2idx\n",
    "    model.idx2word = w2v_dataset.idx2word\n",
    "\n",
    "    return model"
   ]
  },
  {
   "cell_type": "markdown",
   "metadata": {},
   "source": [
    "### Hard Negative Skip-Gram"
   ]
  },
  {
   "cell_type": "code",
   "execution_count": 9,
   "metadata": {},
   "outputs": [],
   "source": [
    "class SkipGramModelHardNeg(nn.Module):\n",
    "    \n",
    "    def __init__(self, vocab_size, embed_dim):\n",
    "        super().__init__()\n",
    "        self.embeddings = nn.Embedding(\n",
    "            num_embeddings=vocab_size,\n",
    "            embedding_dim=embed_dim,\n",
    "            max_norm=1.0\n",
    "        )\n",
    "        self.context_embeddings = nn.Embedding(\n",
    "            num_embeddings=vocab_size,\n",
    "            embedding_dim=embed_dim,\n",
    "            max_norm=1.0\n",
    "        )\n",
    "    def forward(self, central, context, negative):\n",
    "        central_emb = self.embeddings(central)\n",
    "        context_emb = self.context_embeddings(context)\n",
    "        negative_emb = self.context_embeddings(negative)\n",
    "        return central_emb, context_emb, negative_emb"
   ]
  },
  {
   "cell_type": "code",
   "execution_count": 10,
   "metadata": {},
   "outputs": [],
   "source": [
    "def train_hard_neg_skip_gram(dataset, epochs=100, lr=1e-2, window_size=2, embed_dim=100):\n",
    "    \n",
    "    set_random_seed()\n",
    "\n",
    "    w2v_dataset = Word2vecDataset(dataset, window_size=window_size, hard_negative=True)\n",
    "    w2v_dataloader = DataLoader(w2v_dataset, batch_size=BATCH_SIZE, num_workers=NUM_WORKERS)\n",
    "\n",
    "    model = SkipGramModelHardNeg(vocab_size=len(w2v_dataset.corpus_words), embed_dim=embed_dim)\n",
    "    model.to(DEVICE)\n",
    "    optimizer = optim.Adam(model.parameters(), lr=lr)\n",
    "    scheduler = optim.lr_scheduler.CosineAnnealingLR(optimizer, T_max=epochs)\n",
    "    average_loss = np.inf\n",
    "    loss_array = []\n",
    "    for epoch in range(epochs):\n",
    "        for batch in tqdm(w2v_dataloader, desc=f'epoch: {epoch} loss: {average_loss:.3f}', leave=False):\n",
    "            central, context, negative = batch\n",
    "            central, context, negative = central.to(DEVICE), context.to(DEVICE), negative.to(DEVICE)\n",
    "\n",
    "            emb_central, emb_context, emb_negative = model(central, context, negative)\n",
    "\n",
    "            pos_score = torch.sum(emb_central * emb_context, dim=1)\n",
    "            neg_score = torch.sum(emb_central * emb_negative, dim=1)\n",
    "\n",
    "            pos_score = torch.clamp(pos_score, max=10, min=-10)\n",
    "            neg_score = torch.clamp(neg_score, max=10, min=-10)\n",
    "\n",
    "            loss = -(F.logsigmoid(pos_score) + F.logsigmoid(-neg_score)).mean()\n",
    "            optimizer.zero_grad()\n",
    "            loss.backward()\n",
    "            optimizer.step()\n",
    "\n",
    "            average_loss = loss.item() if average_loss == np.inf else 0.9 * average_loss + 0.1 * loss.item()\n",
    "            loss_array.append(loss.item())\n",
    "\n",
    "        scheduler.step()\n",
    "\n",
    "    plt.plot(loss_array)\n",
    "    model.word2idx = w2v_dataset.word2idx\n",
    "    model.idx2word = w2v_dataset.idx2word\n",
    "\n",
    "    return model\n"
   ]
  },
  {
   "cell_type": "markdown",
   "metadata": {},
   "source": [
    "### Easy Demo"
   ]
  },
  {
   "cell_type": "code",
   "execution_count": 11,
   "metadata": {},
   "outputs": [],
   "source": [
    "dataset = [\n",
    "    \"apple banana fruit banana orange fruit orange banana fruit apple fruit orange\",\n",
    "    \"dog cat animal cat monkey animal monkey dog animal dog cat animal cat monkey animal\",\n",
    "    \"cola beer water beer cola water water beer cola water cola beer cola water beer\"\n",
    "]"
   ]
  },
  {
   "cell_type": "markdown",
   "metadata": {},
   "source": [
    "#### vanilla skip-gram"
   ]
  },
  {
   "cell_type": "code",
   "execution_count": 12,
   "metadata": {},
   "outputs": [
    {
     "name": "stdout",
     "output_type": "stream",
     "text": [
      "\u001b[30mdog \u001b[32mcat\n",
      "\u001b[30mapple \u001b[32mfruit\n",
      "\u001b[30mcola \u001b[32mwater\n",
      "\u001b[30morange \u001b[32mbanana\n",
      "\u001b[30morange \u001b[32mfruit\n"
     ]
    }
   ],
   "source": [
    "test(dataset, window_size=2, examples=5, hard_negative=False)"
   ]
  },
  {
   "cell_type": "code",
   "execution_count": 13,
   "metadata": {},
   "outputs": [
    {
     "name": "stderr",
     "output_type": "stream",
     "text": [
      "                                                                    \r"
     ]
    },
    {
     "data": {
      "image/png": "[encoded data removed]",
      "text/plain": [
       "<Figure size 640x480 with 1 Axes>"
      ]
     },
     "metadata": {},
     "output_type": "display_data"
    }
   ],
   "source": [
    "model = train_vanilla_skip_gram(dataset, epochs=10, lr=1e-2, window_size=2, embed_dim=15)"
   ]
  },
  {
   "cell_type": "code",
   "execution_count": 14,
   "metadata": {},
   "outputs": [
    {
     "data": {
      "image/png": "[encoded data removed]",
      "text/plain": [
       "<Figure size 560x560 with 1 Axes>"
      ]
     },
     "metadata": {},
     "output_type": "display_data"
    }
   ],
   "source": [
    "words = model.word2idx.keys()\n",
    "inds = torch.tensor([model.word2idx[word] for word in words], device=DEVICE)\n",
    "embeddings = reduce_to_k_dim(model.embeddings(inds).cpu().detach().numpy())\n",
    "plot_embeddings(embeddings, words)"
   ]
  },
  {
   "cell_type": "markdown",
   "metadata": {},
   "source": [
    "#### hard negative skip-gram"
   ]
  },
  {
   "cell_type": "code",
   "execution_count": 15,
   "metadata": {},
   "outputs": [
    {
     "name": "stdout",
     "output_type": "stream",
     "text": [
      "\u001b[30mfruit \u001b[32mapple \u001b[31mcat\n",
      "\u001b[30mdog \u001b[32mdog \u001b[31mwater\n",
      "\u001b[30mdog \u001b[32manimal \u001b[31mbanana\n",
      "\u001b[30morange \u001b[32mbanana \u001b[31mdog\n",
      "\u001b[30mbanana \u001b[32mfruit \u001b[31mbeer\n"
     ]
    }
   ],
   "source": [
    "test(dataset, window_size=2, examples=5, hard_negative=True)"
   ]
  },
  {
   "cell_type": "code",
   "execution_count": 16,
   "metadata": {},
   "outputs": [
    {
     "name": "stderr",
     "output_type": "stream",
     "text": [
      "                                                                    \r"
     ]
    },
    {
     "data": {
      "image/png": "[encoded data removed]",
      "text/plain": [
       "<Figure size 640x480 with 1 Axes>"
      ]
     },
     "metadata": {},
     "output_type": "display_data"
    }
   ],
   "source": [
    "model = train_hard_neg_skip_gram(dataset, epochs=10, lr=1e-2, window_size=2, embed_dim=15)"
   ]
  },
  {
   "cell_type": "code",
   "execution_count": 17,
   "metadata": {},
   "outputs": [
    {
     "data": {
      "image/png": "[encoded data removed]",
      "text/plain": [
       "<Figure size 560x560 with 1 Axes>"
      ]
     },
     "metadata": {},
     "output_type": "display_data"
    }
   ],
   "source": [
    "words = model.word2idx.keys()\n",
    "inds = torch.tensor([model.word2idx[word] for word in words], device=DEVICE)\n",
    "embeddings = reduce_to_k_dim(model.embeddings(inds).cpu().detach().numpy())\n",
    "plot_embeddings(embeddings, words)"
   ]
  },
  {
   "cell_type": "markdown",
   "metadata": {},
   "source": [
    "### Go harder"
   ]
  },
  {
   "cell_type": "code",
   "execution_count": 18,
   "metadata": {},
   "outputs": [
    {
     "name": "stdout",
     "output_type": "stream",
     "text": [
      "\n",
      "0.  Капитан «Вашингтона» Александр Овечкин сделал хет-трик в игре Национальной хоккейной лиги (НХЛ) с «...\n",
      "1. Нападающий клуба «Эдмонтон Ойлерс» Коннор Макдэвид забросил шайбу с отрицательного угла в матче регу...\n",
      "2. Нападающий «Пари Сен-Жермен» Неймар принял решение остаться в чемпионате Франции. Об этом сообщает l...\n",
      "3. Главный тренер «Манчестер Юнайтед» Жозе Моуринью высказал мнение о том, что необходимо футбольной ко...\n",
      "4.  Американский боец смешанного стиля (MMA) Фрэнк Мир проиграл соотечественнику Джэви Айяле на турнире...\n",
      "5. Российский боец смешанного стиля (MMA) Алексей Олейник включен в Книгу рекордов Гиннеса. Об этом соо...\n",
      "6. Абсолютный чемпион мира в первом тяжелом весе украинский боксер Александр Усик ответил пригрозившим ...\n",
      "7. Болельщик «Спартака» Мирослав Голунов столкнулся с иском со стороны клуба за нападение на капитана к...\n",
      "8. После завершения группового этапа Лиги Европы стали известны все участники плей-офф турнира. Об этом...\n",
      "9. Бывший нападающий сборной России Андрей Аршавин может вновь оказаться в санкт-петербургском «Зените»...\n"
     ]
    }
   ],
   "source": [
    "if not os.path.exists('sport_news.pickle'):\n",
    "\n",
    "    records = load_lenta('./lenta-ru-news.csv.gz')\n",
    "    texts = [x.text for x in tqdm(records) if x.tags in ['Футбол', 'Хоккей', 'Бокс и ММА']]\n",
    "\n",
    "    with open('sport_news.pickle', 'wb') as file:\n",
    "        pickle.dump(texts, file)\n",
    "\n",
    "\n",
    "with open('sport_news.pickle', 'rb') as file:\n",
    "    sport_news = pickle.load(file)\n",
    "\n",
    "print()\n",
    "for i, text in enumerate(sport_news[:10]):\n",
    "    print(f'{i}. {text[:100]}...')"
   ]
  },
  {
   "cell_type": "code",
   "execution_count": 19,
   "metadata": {
    "id": "cy7X9zkYhUZ3"
   },
   "outputs": [
    {
     "name": "stdout",
     "output_type": "stream",
     "text": [
      "\n",
      "0. капитан вашингтон александр овечкин сделать хет трик игра национальный хоккейный лига нхл каролина т...\n",
      "1. нападающий клуб эдмонтон ойлерс коннора <UNK> забросить шайба отрицательный угол матч регулярный чем...\n",
      "2. нападающий пари сен жермен неймар принять решение остаться чемпионат франция сообщать информация изд...\n",
      "3. главный тренер манчестер юнайтед жозе моуринья высказать мнение необходимый футбольный команда ее ус...\n",
      "4. американский боец смешанный стиль фрэнк мир проиграть соотечественник <UNK> <UNK> турнир видео опубл...\n",
      "5. российский боец смешанный стиль алексей олейник включить книга рекорд <UNK> сообщать летний тяжелове...\n",
      "6. абсолютный чемпион мир первый тяжелый вес украинский боксер александр усик ответить пригрозить нацио...\n",
      "7. болельщик спартак мирослав <UNK> столкнуться иск сторона клуб нападение капитан команда денис глушак...\n",
      "8. завершение групповой этап лига европа стать известный весь участник плей офф турнир сообщать корресп...\n",
      "9. бывший нападающий сборная россия андрей аршавин мочь оказаться санкт петербургский зенит администрат...\n"
     ]
    }
   ],
   "source": [
    "if not os.path.exists('dataset.pickle'):\n",
    "\n",
    "    # Предобработаем тексты. Для этого будем использовать библиотеку natasha\n",
    "\n",
    "    from natasha import NewsEmbedding, Segmenter, NewsMorphTagger, MorphVocab, Doc\n",
    "\n",
    "    emb = NewsEmbedding()\n",
    "    segmenter = Segmenter()\n",
    "    morph_tagger = NewsMorphTagger(emb)\n",
    "    morph_vocab = MorphVocab()\n",
    "    stop_pos = {'CCONJ', 'PART', 'PUNCT', 'AUX', 'ADP', 'NUM', 'SCONJ', 'ADV', 'PRON', 'SYM'}\n",
    "\n",
    "    dataset = []\n",
    "    for text in tqdm(sport_news, desc='Лемматизируем токены'):\n",
    "        # 1. Создаем из исходного текста экземпля класса Doc\n",
    "        doc = Doc(text)\n",
    "        # 2. Разделяем текст на токены и предложения\n",
    "        doc.segment(segmenter)\n",
    "        # 3. Для каждого токена получаем морфолгические тэги. Требуется для корректной лемматизации\n",
    "        doc.tag_morph(morph_tagger)\n",
    "        # 4. Лемматизируем каждый токен (за исключением стоп слов)\n",
    "        [token.lemmatize(morph_vocab) for token in doc.tokens if token.pos not in stop_pos]\n",
    "        # 5. Собираем текст из лемматизированных токенов (стоп слова пропускаем)\n",
    "        dataset.append([token.lemma for token in doc.tokens if token.lemma is not None])\n",
    "\n",
    "    # 6. Заменям редкие слова (слова, которые встретились менее чем в 10 новостях) на токен <UNK>\n",
    "    df = Counter([x for text in dataset for x in set(text)])\n",
    "    dataset = [[x if df[x] > 10 else '<UNK>' for x in text] for text in tqdm(dataset, desc='Удаляем редкие токены')]\n",
    "\n",
    "    # 7. Соединяем полученные токены в тексты через пробел\n",
    "    dataset = [' '.join(text) for text in tqdm(dataset, desc='Соединяем токены в тексты')]\n",
    "\n",
    "    # 8. Удаляем все символы не являющиеся кириллицей\n",
    "    dataset = [' '.join(re.findall('([а-я]+|<UNK>)', text)) for text in tqdm(dataset, desc='Удаляем цифры и латиницу')]\n",
    "\n",
    "    # 8. Сохраняем, чтобы не ждать в следующий раз\n",
    "    with open('dataset.pickle', 'wb') as file:\n",
    "        pickle.dump(dataset, file)\n",
    "\n",
    "\n",
    "with open('dataset.pickle', 'rb') as file:\n",
    "    dataset = pickle.load(file)\n",
    "\n",
    "print()\n",
    "for i, text in enumerate(dataset[:10]):\n",
    "    print(f'{i}. {text[:100]}...')"
   ]
  },
  {
   "cell_type": "markdown",
   "metadata": {},
   "source": [
    "#### vanilla skip-gram"
   ]
  },
  {
   "cell_type": "code",
   "execution_count": 20,
   "metadata": {},
   "outputs": [
    {
     "name": "stdout",
     "output_type": "stream",
     "text": [
      "\u001b[30mконец \u001b[32mнамерен\n",
      "\u001b[30mгод \u001b[32mклуб\n",
      "\u001b[30mиюль \u001b[32mиюнь\n",
      "\u001b[30mпервый \u001b[32mсхема\n",
      "\u001b[30mтрехлетний \u001b[32mзаключить\n",
      "\u001b[30mялта \u001b[32mжемчужина\n",
      "\u001b[30mокно \u001b[32mподойти\n",
      "\u001b[30mпредставитель \u001b[32mгазон\n",
      "\u001b[30mденис \u001b[32mвес\n",
      "\u001b[30mчемпионат \u001b[32mпроведение\n"
     ]
    }
   ],
   "source": [
    "test(dataset, window_size=1, examples=10, hard_negative=False)"
   ]
  },
  {
   "cell_type": "code",
   "execution_count": 21,
   "metadata": {},
   "outputs": [
    {
     "name": "stderr",
     "output_type": "stream",
     "text": [
      "                                                                     \r"
     ]
    },
    {
     "data": {
      "image/png": "[encoded data removed]",
      "text/plain": [
       "<Figure size 640x480 with 1 Axes>"
      ]
     },
     "metadata": {},
     "output_type": "display_data"
    }
   ],
   "source": [
    "model = train_vanilla_skip_gram(dataset, epochs=100, lr=1e-2, window_size=3, embed_dim=100)"
   ]
  },
  {
   "cell_type": "code",
   "execution_count": 22,
   "metadata": {},
   "outputs": [
    {
     "data": {
      "image/png": "[encoded data removed]",
      "text/plain": [
       "<Figure size 560x560 with 1 Axes>"
      ]
     },
     "metadata": {},
     "output_type": "display_data"
    }
   ],
   "source": [
    "words = [\n",
    "    'макгрегор', 'нурмагомедов', 'емельяненко',\n",
    "    'кокорин', 'мамаев', 'кержаков', 'аршавин',\n",
    "    'кличко', 'поветкин', 'дрозд', 'головкин',\n",
    "    'овечкин', 'малкин', 'ковальчук', \n",
    "]\n",
    "inds = torch.tensor([model.word2idx[word] for word in words], device=DEVICE)\n",
    "embeddings = reduce_to_k_dim(model.embeddings(inds).cpu().detach().numpy())\n",
    "plot_embeddings(embeddings, words)"
   ]
  },
  {
   "cell_type": "code",
   "execution_count": 23,
   "metadata": {},
   "outputs": [
    {
     "name": "stdout",
     "output_type": "stream",
     "text": [
      "1.000: овечкин\n",
      "0.834: кэпиталс\n",
      "0.822: вашингтон\n",
      "0.775: забросить\n",
      "0.743: канадиенс\n",
      "0.742: пингвинс\n",
      "0.734: шайба\n",
      "0.713: радулов\n",
      "0.707: малкин\n",
      "0.698: кузнецов\n"
     ]
    }
   ],
   "source": [
    "similarity(model, 'овечкин')"
   ]
  },
  {
   "cell_type": "code",
   "execution_count": 24,
   "metadata": {},
   "outputs": [
    {
     "name": "stdout",
     "output_type": "stream",
     "text": [
      "1.000: кержаков\n",
      "0.736: анюков\n",
      "0.733: кокорин\n",
      "0.723: прудников\n",
      "0.723: головин\n",
      "0.700: елена\n",
      "0.700: ильин\n",
      "0.666: рязанцев\n",
      "0.661: самед\n",
      "0.649: мамаев\n"
     ]
    }
   ],
   "source": [
    "similarity(model, 'кержаков')"
   ]
  },
  {
   "cell_type": "code",
   "execution_count": 25,
   "metadata": {},
   "outputs": [
    {
     "name": "stdout",
     "output_type": "stream",
     "text": [
      "1.000: макгрегор\n",
      "0.908: ирландец\n",
      "0.906: конор\n",
      "0.861: хабиб\n",
      "0.860: нурмагомедов\n",
      "0.846: нурмагомед\n",
      "0.830: тухуг\n",
      "0.813: дэнис\n",
      "0.813: конора\n",
      "0.799: абдулманап\n"
     ]
    }
   ],
   "source": [
    "similarity(model, 'макгрегор')"
   ]
  },
  {
   "cell_type": "code",
   "execution_count": 26,
   "metadata": {},
   "outputs": [
    {
     "name": "stdout",
     "output_type": "stream",
     "text": [
      "1.000: кличко\n",
      "0.862: хрюнов\n",
      "0.855: украинец\n",
      "0.832: джошуа\n",
      "0.815: фьюри\n",
      "0.812: реванш\n",
      "0.792: прайс\n",
      "0.791: британец\n",
      "0.759: тайсон\n",
      "0.753: владимир\n"
     ]
    }
   ],
   "source": [
    "similarity(model, 'кличко')"
   ]
  },
  {
   "cell_type": "code",
   "execution_count": 27,
   "metadata": {},
   "outputs": [
    {
     "name": "stdout",
     "output_type": "stream",
     "text": [
      "1.000: цска\n",
      "0.846: локомотив\n",
      "0.825: спартак\n",
      "0.758: дерби\n",
      "0.747: динамо\n",
      "0.725: вагнер\n",
      "0.704: терек\n",
      "0.692: уфа\n",
      "0.690: пермский\n",
      "0.690: торпедо\n"
     ]
    }
   ],
   "source": [
    "similarity(model, 'цска')"
   ]
  },
  {
   "cell_type": "code",
   "execution_count": 28,
   "metadata": {},
   "outputs": [
    {
     "name": "stdout",
     "output_type": "stream",
     "text": [
      "макгрегор - мма + бокс = {макгрегор | бой | ирландец | хопкинс}"
     ]
    }
   ],
   "source": [
    "vector_math(model, 'макгрегор', 'мма', 'бокс')"
   ]
  },
  {
   "cell_type": "code",
   "execution_count": 29,
   "metadata": {},
   "outputs": [
    {
     "name": "stdout",
     "output_type": "stream",
     "text": [
      "хабиб - россия + ирландия = {абдулманап | макгрегор | конор | конора}"
     ]
    }
   ],
   "source": [
    "vector_math(model, 'хабиб', 'россия', 'ирландия')"
   ]
  },
  {
   "cell_type": "code",
   "execution_count": 30,
   "metadata": {},
   "outputs": [
    {
     "name": "stdout",
     "output_type": "stream",
     "text": [
      "футбол - мяч + шайба = {хоккей | механизм | распределить | непризнанный}"
     ]
    }
   ],
   "source": [
    "vector_math(model, 'футбол', 'мяч', 'шайба')"
   ]
  },
  {
   "cell_type": "markdown",
   "metadata": {},
   "source": [
    "#### hard negative skip-gram"
   ]
  },
  {
   "cell_type": "code",
   "execution_count": 31,
   "metadata": {},
   "outputs": [
    {
     "name": "stdout",
     "output_type": "stream",
     "text": [
      "\u001b[30mконец \u001b[32mнамерен \u001b[31mгод\n",
      "\u001b[30mгод \u001b[32mклуб \u001b[31mудовольствие\n",
      "\u001b[30mиюль \u001b[32mиюнь \u001b[31mарбитр\n",
      "\u001b[30mпервый \u001b[32mсхема \u001b[31mчелси\n",
      "\u001b[30mтрехлетний \u001b[32mзаключить \u001b[31mгруппа\n",
      "\u001b[30mялта \u001b[32mжемчужина \u001b[31mорганизация\n",
      "\u001b[30mокно \u001b[32mподойти \u001b[31mбаза\n",
      "\u001b[30mпредставитель \u001b[32mгазон \u001b[31mвстреча\n",
      "\u001b[30mденис \u001b[32mвес \u001b[31mперейти\n",
      "\u001b[30mчемпионат \u001b[32mпроведение \u001b[31mдопинг\n"
     ]
    }
   ],
   "source": [
    "test(dataset, window_size=1, examples=10, hard_negative=True)"
   ]
  },
  {
   "cell_type": "code",
   "execution_count": 32,
   "metadata": {},
   "outputs": [
    {
     "name": "stderr",
     "output_type": "stream",
     "text": [
      "                                                                     \r"
     ]
    },
    {
     "data": {
      "image/png": "[encoded data removed]",
      "text/plain": [
       "<Figure size 640x480 with 1 Axes>"
      ]
     },
     "metadata": {},
     "output_type": "display_data"
    }
   ],
   "source": [
    "model = train_hard_neg_skip_gram(dataset, epochs=100, lr=1e-2, window_size=3, embed_dim=100)"
   ]
  },
  {
   "cell_type": "code",
   "execution_count": 33,
   "metadata": {},
   "outputs": [
    {
     "data": {
      "image/png": "[encoded data removed]",
      "text/plain": [
       "<Figure size 560x560 with 1 Axes>"
      ]
     },
     "metadata": {},
     "output_type": "display_data"
    }
   ],
   "source": [
    "words = [\n",
    "    'макгрегор', 'нурмагомедов', 'емельяненко',\n",
    "    'кокорин', 'мамаев', 'кержаков', 'аршавин',\n",
    "    'кличко', 'поветкин', 'дрозд', 'головкин',\n",
    "    'овечкин', 'малкин', 'ковальчук', \n",
    "]\n",
    "inds = torch.tensor([model.word2idx[word] for word in words], device=DEVICE)\n",
    "embeddings = reduce_to_k_dim(model.embeddings(inds).cpu().detach().numpy())\n",
    "plot_embeddings(embeddings, words)"
   ]
  },
  {
   "cell_type": "code",
   "execution_count": 34,
   "metadata": {},
   "outputs": [
    {
     "name": "stdout",
     "output_type": "stream",
     "text": [
      "1.000: овечкин\n",
      "0.756: пингвинс\n",
      "0.730: кузнецов\n",
      "0.717: кэпиталс\n",
      "0.685: евгений\n",
      "0.682: забросить\n",
      "0.668: результативный\n",
      "0.668: отметиться\n",
      "0.662: сидень\n",
      "0.662: питтсбург\n"
     ]
    }
   ],
   "source": [
    "similarity(model, 'овечкин')"
   ]
  },
  {
   "cell_type": "code",
   "execution_count": 35,
   "metadata": {},
   "outputs": [
    {
     "name": "stdout",
     "output_type": "stream",
     "text": [
      "1.000: кержаков\n",
      "0.700: самед\n",
      "0.668: кокорин\n",
      "0.657: павел\n",
      "0.655: александр\n",
      "0.629: артем\n",
      "0.607: васин\n",
      "0.597: андрей\n",
      "0.588: роман\n",
      "0.577: ильин\n"
     ]
    }
   ],
   "source": [
    "similarity(model, 'кержаков')"
   ]
  },
  {
   "cell_type": "code",
   "execution_count": 36,
   "metadata": {},
   "outputs": [
    {
     "name": "stdout",
     "output_type": "stream",
     "text": [
      "1.000: макгрегор\n",
      "0.961: нурмагомедов\n",
      "0.953: нурмагомед\n",
      "0.953: конор\n",
      "0.949: ирландец\n",
      "0.922: деонтей\n",
      "0.913: бой\n",
      "0.912: флойда\n",
      "0.909: фьюри\n",
      "0.904: хабиб\n"
     ]
    }
   ],
   "source": [
    "similarity(model, 'макгрегор')"
   ]
  },
  {
   "cell_type": "code",
   "execution_count": 37,
   "metadata": {},
   "outputs": [
    {
     "name": "stdout",
     "output_type": "stream",
     "text": [
      "1.000: кличко\n",
      "0.941: поветкин\n",
      "0.939: боксер\n",
      "0.936: тайсон\n",
      "0.928: бой\n",
      "0.925: флойда\n",
      "0.925: фьюри\n",
      "0.916: головкин\n",
      "0.915: джошуа\n",
      "0.912: энтони\n"
     ]
    }
   ],
   "source": [
    "similarity(model, 'кличко')"
   ]
  },
  {
   "cell_type": "code",
   "execution_count": 38,
   "metadata": {},
   "outputs": [
    {
     "name": "stdout",
     "output_type": "stream",
     "text": [
      "1.000: цска\n",
      "0.890: спартак\n",
      "0.855: московский\n",
      "0.837: зенит\n",
      "0.834: локомотив\n",
      "0.833: торпедо\n",
      "0.824: уфа\n",
      "0.824: анжи\n",
      "0.821: динамо\n",
      "0.806: амкар\n"
     ]
    }
   ],
   "source": [
    "similarity(model, 'цска')"
   ]
  },
  {
   "cell_type": "code",
   "execution_count": 39,
   "metadata": {},
   "outputs": [
    {
     "name": "stdout",
     "output_type": "stream",
     "text": [
      "макгрегор - мма + бокс = {килограмм | титул | полутяжелый | легкий}"
     ]
    }
   ],
   "source": [
    "vector_math(model, 'макгрегор', 'мма', 'бокс')"
   ]
  },
  {
   "cell_type": "code",
   "execution_count": 40,
   "metadata": {},
   "outputs": [
    {
     "name": "stdout",
     "output_type": "stream",
     "text": [
      "хабиб - россия + ирландия = {конора | нурмагомедов | конор | единоборство}"
     ]
    }
   ],
   "source": [
    "vector_math(model, 'хабиб', 'россия', 'ирландия')"
   ]
  },
  {
   "cell_type": "code",
   "execution_count": 41,
   "metadata": {},
   "outputs": [
    {
     "name": "stdout",
     "output_type": "stream",
     "text": [
      "футбол - мяч + шайба = {федерация | хоккей | международный | фхр}"
     ]
    }
   ],
   "source": [
    "vector_math(model, 'футбол', 'мяч', 'шайба')"
   ]
  },
  {
   "cell_type": "markdown",
   "metadata": {
    "id": "4DATwI9mIHSm"
   },
   "source": [
    "### Практикум! Реализуйте CBOW.(5 баллов)"
   ]
  },
  {
   "cell_type": "code",
   "execution_count": null,
   "metadata": {},
   "outputs": [],
   "source": [
    "class Word2vecDatasetCBOW:\n",
    "    def __init__(self, dataset, window_size):\n",
    "        \n",
    "        self.dataset = dataset\n",
    "        self.window_size = window_size\n",
    "        self.corpus_words = list({x for text in dataset for x in text.split(' ')})\n",
    "        self.word2idx = {word:idx for idx, word in enumerate(self.corpus_words)}\n",
    "        self.idx2word = {idx:word for word, idx in self.word2idx.items()}\n",
    "\n",
    "    def __len__(self):\n",
    "        return PASSES_SIZE\n",
    "\n",
    "    def __getitem__(self, idx):\n",
    "        ### CODE: Алгоритм получения примеров для обучения\n",
    "        pass\n",
    "\n",
    "def test(dataset, window_size=2, examples=5):\n",
    "  w2v_dataset = Word2vecDatasetCBOW(dataset, window_size=window_size)\n",
    "  ### CODE: Демонстрация работы датасета\n",
    "  pass"
   ]
  },
  {
   "cell_type": "code",
   "execution_count": null,
   "metadata": {},
   "outputs": [],
   "source": [
    "class CBOWModel(nn.Module):\n",
    "    \n",
    "    def __init__(self, vocab_size, embed_dim):\n",
    "        super().__init__()\n",
    "        ### CODE: Архитектура модели\n",
    "        pass\n",
    "    def forward(self, word_inds):\n",
    "        ### CODE: Forward pass\n",
    "        pass"
   ]
  },
  {
   "cell_type": "code",
   "execution_count": null,
   "metadata": {},
   "outputs": [],
   "source": [
    "def train_cbow(dataset, epochs=100, lr=1e-2, window_size=2, embed_dim=100):\n",
    "    \n",
    "    set_random_seed()\n",
    "\n",
    "    w2v_dataset = Word2vecDatasetCBOW(dataset, window_size=window_size)\n",
    "    w2v_dataloader = DataLoader(w2v_dataset, batch_size=BATCH_SIZE, num_workers=NUM_WORKERS)\n",
    "\n",
    "    model = CBOWModel(vocab_size=len(w2v_dataset.corpus_words), embed_dim=embed_dim)\n",
    "    model.to(DEVICE)\n",
    "    optimizer = optim.Adam(model.parameters(), lr=lr)\n",
    "    scheduler = optim.lr_scheduler.CosineAnnealingLR(optimizer, T_max=epochs)\n",
    "    average_loss = np.inf\n",
    "    loss_array = []\n",
    "    for epoch in range(epochs):\n",
    "        for batch in tqdm(w2v_dataloader, desc=f'epoch: {epoch} loss: {average_loss:.3f}', leave=False):\n",
    "            ### CODE: цикл обучения модели\n",
    "            pass\n",
    "\n",
    "        scheduler.step()\n",
    "\n",
    "    plt.plot(loss_array)\n",
    "    model.word2idx = w2v_dataset.word2idx\n",
    "    model.idx2word = w2v_dataset.idx2word\n",
    "\n",
    "    return model\n"
   ]
  },
  {
   "cell_type": "code",
   "execution_count": 110,
   "metadata": {},
   "outputs": [],
   "source": [
    "dataset = [\n",
    "    ...\n",
    "]"
   ]
  },
  {
   "cell_type": "code",
   "execution_count": null,
   "metadata": {},
   "outputs": [],
   "source": [
    "test(dataset, window_size=1, examples=10)"
   ]
  },
  {
   "cell_type": "code",
   "execution_count": 40,
   "metadata": {
    "id": "dclwRtqrIKTz"
   },
   "outputs": [],
   "source": [
    "train_cbow(dataset, epochs=100, lr=1e-2, window_size=2, embed_dim=100)"
   ]
  },
  {
   "cell_type": "code",
   "execution_count": 41,
   "metadata": {
    "id": "EKgYR0HhIKV3"
   },
   "outputs": [],
   "source": [
    "### CODE: Покажите как выглядят ваши эмбеддинги в векторном пространстве R^2.\n",
    "\n"
   ]
  }
 ],
 "metadata": {
  "accelerator": "GPU",
  "colab": {
   "collapsed_sections": [],
   "name": "W2V Tutorial.ipynb",
   "provenance": []
  },
  "kernelspec": {
   "display_name": "Python 3 (ipykernel)",
   "language": "python",
   "name": "python3"
  },
  "language_info": {
   "codemirror_mode": {
    "name": "ipython",
    "version": 3
   },
   "file_extension": ".py",
   "mimetype": "text/x-python",
   "name": "python",
   "nbconvert_exporter": "python",
   "pygments_lexer": "ipython3",
   "version": "3.9.7"
  }
 },
 "nbformat": 4,
 "nbformat_minor": 4
}
