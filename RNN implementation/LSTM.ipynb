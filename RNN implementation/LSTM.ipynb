{
 "cells": [
  {
   "cell_type": "code",
   "execution_count": null,
   "metadata": {},
   "outputs": [],
   "source": [
    "import torch\n",
    "import torch.nn as nn\n",
    "import torch.nn.functional as F"
   ]
  },
  {
   "cell_type": "markdown",
   "metadata": {},
   "source": [
    "The source of all images is wikipedia so no worries for copyright"
   ]
  },
  {
   "cell_type": "markdown",
   "metadata": {},
   "source": [
    "## LSTM - image"
   ]
  },
  {
   "cell_type": "markdown",
   "metadata": {},
   "source": [
    "![](images/lstm_im.png)"
   ]
  },
  {
   "cell_type": "markdown",
   "metadata": {},
   "source": [
    "## LSTM - Equations"
   ]
  },
  {
   "cell_type": "markdown",
   "metadata": {},
   "source": [
    "Let:\n",
    "\n",
    "$fn$ = Number of features\n",
    "\n",
    "$hs$ = Number of output nodes (hidden size)\n",
    "\n",
    "$bs$ = Batch size\n",
    "\n",
    "Then:\n",
    " * Each $W_{something}$ matrix below has the shape $(fn, hs)$;\n",
    " * Each $U_{something}$ matrix below has the shape $(hs, hs)$;\n",
    " * Each $b_{something}$ matrix below has the shape $(1, hs)$;\n",
    " * The $x_t$ matrix below has shape $(bs, fn)$, corresponding to the element of index $t$ of each sequence inf the batch.; and\n",
    " * The $h_t$ matrix below has shape $(bs, hs)$, corresponding to hidden state at time $t$ of each sequence inf the batch.\n",
    "\n",
    "And:"
   ]
  },
  {
   "cell_type": "markdown",
   "metadata": {},
   "source": [
    "$f_t = \\sigma(W_f \\ x_t + U_f \\ h_{t-1} + b_f)$\n",
    "\n",
    "$i_t = \\sigma(W_i \\ x_t + U_i \\ h_{t-1} + b_i)$\n",
    "\n",
    "$o_t = \\sigma(W_o \\ x_t + U_o \\ h_{t-1} + b_o)$\n",
    "\n",
    "$g_t = \\tanh \\ (W_g \\ x_t + U_g \\ h_{t-1} + b_g)$ a.k.a. $\\tilde{c}_t$\n",
    "\n",
    "$c_t = f_t \\circ c_{t-1} + i_t \\circ g_t$\n",
    "\n",
    "$h_t = o_t \\circ \\tanh \\ (c_t)$"
   ]
  },
  {
   "cell_type": "code",
   "execution_count": null,
   "metadata": {},
   "outputs": [],
   "source": [
    "# implementation"
   ]
  },
  {
   "cell_type": "code",
   "execution_count": null,
   "metadata": {},
   "outputs": [],
   "source": [
    "import math\n",
    "class NaiveCustomLSTM(nn.Module):\n",
    "    def __init__(self, input_sz: int, hidden_sz: int):\n",
    "        super().__init__()\n",
    "        self.input_size = input_sz\n",
    "        self.hidden_size = hidden_sz\n",
    "        \n",
    "        #i_t\n",
    "        self.W_i = nn.Parameter(torch.Tensor(input_sz, hidden_sz))\n",
    "        self.U_i = nn.Parameter(torch.Tensor(hidden_sz, hidden_sz))\n",
    "        self.b_i = nn.Parameter(torch.Tensor(hidden_sz))\n",
    "        \n",
    "        #f_t\n",
    "        self.W_f = nn.Parameter(torch.Tensor(input_sz, hidden_sz))\n",
    "        self.U_f = nn.Parameter(torch.Tensor(hidden_sz, hidden_sz))\n",
    "        self.b_f = nn.Parameter(torch.Tensor(hidden_sz))\n",
    "        \n",
    "        #c_t\n",
    "        self.W_c = nn.Parameter(torch.Tensor(input_sz, hidden_sz))\n",
    "        self.U_c = nn.Parameter(torch.Tensor(hidden_sz, hidden_sz))\n",
    "        self.b_c = nn.Parameter(torch.Tensor(hidden_sz))\n",
    "        \n",
    "        #o_t\n",
    "        self.W_o = nn.Parameter(torch.Tensor(input_sz, hidden_sz))\n",
    "        self.U_o = nn.Parameter(torch.Tensor(hidden_sz, hidden_sz))\n",
    "        self.b_o = nn.Parameter(torch.Tensor(hidden_sz))\n",
    "        \n",
    "        self.init_weights()\n",
    "    \n",
    "    def init_weights(self):\n",
    "        stdv = 1.0 / math.sqrt(self.hidden_size)\n",
    "        for weight in self.parameters():\n",
    "            weight.data.uniform_(-stdv, stdv)\n",
    "    \n",
    "    def forward(self,\n",
    "                x,\n",
    "                init_states=None):\n",
    "        \n",
    "        \"\"\"\n",
    "        assumes x.shape represents (batch_size, sequence_size, input_size)\n",
    "        \"\"\"\n",
    "        bs, seq_sz, _ = x.size()\n",
    "        hidden_seq = []\n",
    "        \n",
    "        if init_states is None:\n",
    "            h_t, c_t = (\n",
    "                torch.zeros(bs, self.hidden_size).to(x.device),\n",
    "                torch.zeros(bs, self.hidden_size).to(x.device),\n",
    "            )\n",
    "        else:\n",
    "            h_t, c_t = init_states\n",
    "            \n",
    "        for t in range(seq_sz):\n",
    "            x_t = x[:, t, :]\n",
    "            \n",
    "            i_t = torch.sigmoid(x_t @ self.W_i + h_t @ self.U_i + self.b_i)\n",
    "            f_t = torch.sigmoid(x_t @ self.W_f + h_t @ self.U_f + self.b_f)\n",
    "            g_t = torch.tanh(x_t @ self.W_c + h_t @ self.U_c + self.b_c)\n",
    "            o_t = torch.sigmoid(x_t @ self.W_o + h_t @ self.U_o + self.b_o)\n",
    "            c_t = f_t * c_t + i_t * g_t\n",
    "            h_t = o_t * torch.tanh(c_t)\n",
    "            \n",
    "            hidden_seq.append(h_t.unsqueeze(0))\n",
    "        \n",
    "        #reshape hidden_seq p/ retornar\n",
    "        hidden_seq = torch.cat(hidden_seq, dim=0)\n",
    "        hidden_seq = hidden_seq.transpose(0, 1).contiguous()\n",
    "        return hidden_seq, (h_t, c_t)"
   ]
  },
  {
   "cell_type": "code",
   "execution_count": null,
   "metadata": {},
   "outputs": [],
   "source": [
    "layer = NaiveCustomLSTM(4, 5)\n",
    "\n",
    "t = torch.ones(10, 3, 4) #batch_size, seq_size, input_size"
   ]
  },
  {
   "cell_type": "code",
   "execution_count": null,
   "metadata": {},
   "outputs": [],
   "source": []
  },
  {
   "cell_type": "markdown",
   "metadata": {},
   "source": [
    "## LSTM - Time for VECTORIZATION\n",
    "\n",
    "We are going to make it with only 2 matrix multiplications, to make it much FASTER by running parallelized on MKL / Cuda. \n",
    "\n",
    "![](images/vectored.jpg)"
   ]
  },
  {
   "cell_type": "markdown",
   "metadata": {},
   "source": [
    "Let:\n",
    "\n",
    "$fn$ = Number of features\n",
    "\n",
    "$hs$ = Number of output nodes (hidden size)\n",
    "\n",
    "$bs$ = Batch size\n",
    "\n",
    "Then:\n",
    " * The $W$ matrix below has the shape $(fn, 4 \\times hs)$;\n",
    " * The $U$ matrix below has the shape $(hs, 4 \\times hs)$;\n",
    " * The $b$ matrix below has the shape $(1, 4 \\times hs)$;\n",
    " * The $x_t$ matrix below has shape $(bs, fn)$, corresponding to the element of index $t$ of each sequence inf the batch.;\n",
    " * The $h_t$ matrix below has shape $(bs, hs)$, corresponding to hidden state at time $t$ of each sequence inf the batch;\n",
    " * $M[x, y]$ indicate the element of the matrix M with at the cordinates (x, y);\n",
    " * $M[x, :]$ indicate the x$^{th}$ row of the matrix M; \n",
    " * $M[:, y]$ indicate the y$^{th}$ column of the matrix M; and\n",
    " * $M[:, y:y_n]$ indicate the submatrix of M that corresponds all of its rows and columns $y$ to $y_n$\n",
    " \n",
    "And"
   ]
  },
  {
   "cell_type": "markdown",
   "metadata": {},
   "source": [
    "$A_t = W x_t + U h_t + b$ a.k.a. \"Concatenated gates matrix\" - runs vectorized\n",
    "\n",
    "$i_t = \\sigma(A_t[:, 0:hs])$\n",
    "\n",
    "$f_t = \\sigma(A_t[:, hs: 2\\times hs])$\n",
    "\n",
    "$o_t = \\sigma(A_t[:, 2\\times hs: 3\\times hs])$\n",
    "\n",
    "$g_t = \\tanh (A_t[:, 3\\times hs: 4\\times hs])$\n",
    "\n",
    "$c_t = f_t \\circ c_{t-1} + i_t \\circ g_t$\n",
    "\n",
    "$h_t = o_t \\circ \\tanh \\ (c_t)$"
   ]
  },
  {
   "cell_type": "code",
   "execution_count": null,
   "metadata": {},
   "outputs": [],
   "source": [
    "import math\n",
    "\n",
    "class CustomLSTM(nn.Module):\n",
    "    def __init__(self, input_sz, hidden_sz):\n",
    "        super().__init__()\n",
    "        self.input_sz = input_sz\n",
    "        self.hidden_size = hidden_sz\n",
    "        self.W = nn.Parameter(torch.Tensor(input_sz, hidden_sz * 4))\n",
    "        self.U = nn.Parameter(torch.Tensor(hidden_sz, hidden_sz * 4))\n",
    "        self.bias = nn.Parameter(torch.Tensor(hidden_sz * 4))\n",
    "        self.init_weights()\n",
    "                \n",
    "    def init_weights(self):\n",
    "        stdv = 1.0 / math.sqrt(self.hidden_size)\n",
    "        for weight in self.parameters():\n",
    "            weight.data.uniform_(-stdv, stdv)\n",
    "         \n",
    "    def forward(self, x, \n",
    "                init_states=None):\n",
    "        \"\"\"Assumes x is of shape (batch, sequence, feature)\"\"\"\n",
    "        bs, seq_sz, _ = x.size()\n",
    "        hidden_seq = []\n",
    "        if init_states is None:\n",
    "            h_t, c_t = (torch.zeros(bs, self.hidden_size).to(x.device), \n",
    "                        torch.zeros(bs, self.hidden_size).to(x.device))\n",
    "        else:\n",
    "            h_t, c_t = init_states\n",
    "         \n",
    "        HS = self.hidden_size\n",
    "        for t in range(seq_sz):\n",
    "            x_t = x[:, t, :]\n",
    "            # batch the computations into a single matrix multiplication\n",
    "            gates = x_t @ self.W + h_t @ self.U + self.bias\n",
    "            i_t, f_t, g_t, o_t = (\n",
    "                torch.sigmoid(gates[:, :HS]), # input\n",
    "                torch.sigmoid(gates[:, HS:HS*2]), # forget\n",
    "                torch.tanh(gates[:, HS*2:HS*3]),\n",
    "                torch.sigmoid(gates[:, HS*3:]), # output\n",
    "            )\n",
    "            c_t = f_t * c_t + i_t * g_t\n",
    "            h_t = o_t * torch.tanh(c_t)\n",
    "            hidden_seq.append(h_t.unsqueeze(0))\n",
    "        hidden_seq = torch.cat(hidden_seq, dim=0)\n",
    "        # reshape from shape (sequence, batch, feature) to (batch, sequence, feature)\n",
    "        hidden_seq = hidden_seq.transpose(0, 1).contiguous()\n",
    "        return hidden_seq, (h_t, c_t)"
   ]
  }
 ],
 "metadata": {
  "kernelspec": {
   "display_name": "Python 3",
   "language": "python",
   "name": "python3"
  },
  "language_info": {
   "codemirror_mode": {
    "name": "ipython",
    "version": 3
   },
   "file_extension": ".py",
   "mimetype": "text/x-python",
   "name": "python",
   "nbconvert_exporter": "python",
   "pygments_lexer": "ipython3",
   "version": "3.6.10"
  }
 },
 "nbformat": 4,
 "nbformat_minor": 4
}
