{
 "cells": [
  {
   "cell_type": "markdown",
   "id": "08d9e548-1a50-4e1f-a1bf-21fbf435fffc",
   "metadata": {},
   "source": [
    "Прочитать как скачать датасет с каггла - [тут](https://github.com/Kaggle/kaggle-api)."
   ]
  },
  {
   "cell_type": "code",
   "execution_count": 1,
   "id": "94db3497-2080-4c93-9379-215033b4398f",
   "metadata": {
    "tags": []
   },
   "outputs": [],
   "source": [
    "import os\n",
    "os.environ['KAGGLE_USERNAME'] = \"\"\n",
    "os.environ['KAGGLE_KEY'] = \"\""
   ]
  },
  {
   "cell_type": "code",
   "execution_count": 8,
   "id": "940032f1-7b90-458f-b45b-e10d770df053",
   "metadata": {},
   "outputs": [
    {
     "name": "stdout",
     "output_type": "stream",
     "text": [
      "Downloading 10-monkey-species.zip to /home/mark/stuff\n",
      " 99%|████████████████████████████████████████▌| 542M/547M [00:04<00:00, 136MB/s]\n",
      "100%|█████████████████████████████████████████| 547M/547M [00:04<00:00, 131MB/s]\n"
     ]
    }
   ],
   "source": [
    "!kaggle datasets download -d slothkong/10-monkey-species"
   ]
  },
  {
   "cell_type": "code",
   "execution_count": 9,
   "id": "e551791b-8310-48f8-9183-dce52a612417",
   "metadata": {
    "tags": []
   },
   "outputs": [],
   "source": [
    "import zipfile\n",
    "with zipfile.ZipFile('10-monkey-species.zip', 'r') as zip_ref:\n",
    "    zip_ref.extractall()"
   ]
  },
  {
   "cell_type": "code",
   "execution_count": 2,
   "id": "074fa0e9-c9ed-44f3-a47d-337ffd8b4be0",
   "metadata": {
    "tags": []
   },
   "outputs": [],
   "source": [
    "from matplotlib import pyplot as plt\n",
    "from torch.utils.data import Dataset, DataLoader\n",
    "import torch\n",
    "import numpy as np\n",
    "from torchvision import transforms\n",
    "from torchvision.datasets import ImageFolder\n",
    "import torchvision\n",
    "import torchvision.models as models\n",
    "import pytorch_lightning as pl\n",
    "import torch.nn as nn\n",
    "from torchmetrics import Accuracy\n",
    "import torch.optim as optim\n",
    "from pytorch_lightning.callbacks.early_stopping import EarlyStopping\n",
    "from pytorch_lightning.callbacks import ModelCheckpoint\n",
    "from collections import Counter\n",
    "import torch.nn.functional as F"
   ]
  },
  {
   "cell_type": "markdown",
   "id": "d20563bd-b58f-4f9a-9692-ab7238e4bf29",
   "metadata": {
    "tags": []
   },
   "source": [
    "# Dataset"
   ]
  },
  {
   "cell_type": "code",
   "execution_count": 3,
   "id": "aad5c3b7-7fa3-4ccb-bebf-338ae4d8cc7e",
   "metadata": {
    "tags": []
   },
   "outputs": [],
   "source": [
    "transforms = transforms.Compose([transforms.Resize((224,224)),\n",
    "              transforms.ToTensor(),\n",
    "              transforms.Normalize([0.485, 0.456, 0.406],[0.229, 0.224, 0.225])\n",
    "        ])"
   ]
  },
  {
   "cell_type": "code",
   "execution_count": 4,
   "id": "c64810fa-ac79-4fb8-9e2b-ca8648f57f1f",
   "metadata": {
    "tags": []
   },
   "outputs": [],
   "source": [
    "train_ds = ImageFolder('./training/training/',transform=transforms)\n",
    "test_ds = ImageFolder('./validation/validation/',transform=transforms)"
   ]
  },
  {
   "cell_type": "code",
   "execution_count": 5,
   "id": "299e9ce3-22df-4942-9331-5a54d54f503f",
   "metadata": {
    "tags": []
   },
   "outputs": [
    {
     "name": "stdout",
     "output_type": "stream",
     "text": [
      "Counter({3: 122, 7: 114, 5: 113, 1: 111, 2: 110, 6: 106, 8: 106, 0: 105, 4: 105, 9: 105})\n",
      "Counter({3: 30, 1: 28, 5: 28, 7: 28, 2: 27, 8: 27, 0: 26, 4: 26, 6: 26, 9: 26})\n"
     ]
    }
   ],
   "source": [
    "train_cnt = Counter(train_ds.targets)\n",
    "test_cnt = Counter(test_ds.targets)\n",
    "print(train_cnt)\n",
    "print(test_cnt)"
   ]
  },
  {
   "cell_type": "markdown",
   "id": "43848d34-23aa-44e3-a89d-76f15f875841",
   "metadata": {
    "tags": []
   },
   "source": [
    "# Dataloader"
   ]
  },
  {
   "cell_type": "code",
   "execution_count": 6,
   "id": "09e9fdac-3f34-48f7-867c-e5b832f31216",
   "metadata": {
    "tags": []
   },
   "outputs": [],
   "source": [
    "train_dl = DataLoader(train_ds, batch_size=64, shuffle=True,num_workers=4)\n",
    "test_dl = DataLoader(test_ds, batch_size=64, shuffle=False,num_workers=4)"
   ]
  },
  {
   "cell_type": "markdown",
   "id": "7d5f7ef9-7b7b-4d1a-8394-72ecb469e20a",
   "metadata": {
    "tags": []
   },
   "source": [
    "# Model"
   ]
  },
  {
   "cell_type": "code",
   "execution_count": 7,
   "id": "cf9f0924-24b4-483f-b771-66acab7890a6",
   "metadata": {
    "tags": []
   },
   "outputs": [],
   "source": [
    "class HWModel(pl.LightningModule):\n",
    "    def __init__(self, num_classes, lr=2e-4):\n",
    "        super().__init__()\n",
    "        self.save_hyperparameters()\n",
    "        self.lr = lr\n",
    "        self.num_classes = num_classes\n",
    "        self.model = models.resnet50(pretrained=True)\n",
    "        in_feat = list(self.model.children())[-1].in_features\n",
    "        self.model.fc = nn.Linear(in_feat, self.num_classes)\n",
    "        \n",
    "        self.loss_fn = nn.CrossEntropyLoss()\n",
    "        self.accuracy = Accuracy(task=\"multiclass\", num_classes=self.num_classes)\n",
    "        \n",
    "    def forward(self, x):\n",
    "        x = self.model(x)\n",
    "        return x\n",
    "    def configure_optimizers(self):\n",
    "        optimizer = torch.optim.SGD(self.parameters(), lr=self.lr)\n",
    "        return optimizer\n",
    "    \n",
    "    def training_step(self, batch, batch_idx):\n",
    "        \n",
    "        x, y = batch\n",
    "        \n",
    "        preds = self(x)\n",
    "        loss = self.loss_fn(preds, y)\n",
    "        acc = self.accuracy(torch.argmax(preds, dim=1), y)\n",
    "        \n",
    "        self.log('train_loss', loss.item(), on_epoch=True,logger=True)\n",
    "        self.log('train_acc', acc, on_epoch=True,logger=True)\n",
    "        \n",
    "        return loss\n",
    "    \n",
    "    def validation_step(self, batch, batch_idx):\n",
    "        \n",
    "        x,y = batch\n",
    "        \n",
    "        preds = self(x)\n",
    "        \n",
    "        loss = self.loss_fn(preds, y)\n",
    "        acc = self.accuracy(torch.argmax(preds, dim=1), y)\n",
    "        \n",
    "        self.log('val_loss', loss, on_epoch=True,prog_bar=True,logger=True)\n",
    "        self.log('val_acc', acc, on_epoch=True,prog_bar=True,logger=True)\n",
    "        \n",
    "    def test_step(self, batch, batch_idx):\n",
    "        \n",
    "        x,y = batch\n",
    "        preds = self(x)\n",
    "        acc = self.accuracy(torch.argmax(preds, dim=1), y)\n",
    "        \n",
    "        self.log('test_acc', acc, on_epoch=True,prog_bar=True)"
   ]
  },
  {
   "cell_type": "markdown",
   "id": "f46467c3-2701-4fae-998d-2a3304043065",
   "metadata": {
    "tags": []
   },
   "source": [
    "# Train"
   ]
  },
  {
   "cell_type": "code",
   "execution_count": 8,
   "id": "bedd6e0a-d444-43f3-9147-4e5ee05514a5",
   "metadata": {},
   "outputs": [],
   "source": [
    "from torch import Tensor\n",
    "from typing import Type"
   ]
  },
  {
   "cell_type": "code",
   "execution_count": 12,
   "id": "c9a00582-e9ab-4c7a-ae77-e3b3c9f54ddd",
   "metadata": {
    "tags": []
   },
   "outputs": [],
   "source": [
    "model = HWModel(num_classes = 10,lr = 1e-3)\n",
    "trainer_args = {\n",
    "        \"accelerator\": \"gpu\",\n",
    "        \"max_epochs\": 10,\n",
    "    }\n",
    "trainer = pl.Trainer(**trainer_args,enable_progress_bar=True)\n",
    "trainer.fit(model,train_dl,test_dl)"
   ]
  }
 ],
 "metadata": {
  "kernelspec": {
   "display_name": "Python 3 (ipykernel)",
   "language": "python",
   "name": "python3"
  },
  "language_info": {
   "codemirror_mode": {
    "name": "ipython",
    "version": 3
   },
   "file_extension": ".py",
   "mimetype": "text/x-python",
   "name": "python",
   "nbconvert_exporter": "python",
   "pygments_lexer": "ipython3",
   "version": "3.7.12"
  }
 },
 "nbformat": 4,
 "nbformat_minor": 5
}
