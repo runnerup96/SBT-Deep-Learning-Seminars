{
 "cells": [
  {
   "cell_type": "markdown",
   "id": "0fd80301",
   "metadata": {},
   "source": [
    "Все ДЗ состоит из двух частей. Первая часть более развернутая и экспериментальная - в ней вам нужно будет обучить архитектуру для задачи Image Classification. Вам нужно реализовать архитектуру, обучить ее, а так же выполнить некоторые дополнительные задания. Вторая часть более простая - вам просто требуется разобраться во фреймворке и запустить его на данных."
   ]
  },
  {
   "cell_type": "markdown",
   "id": "2cd98fa2",
   "metadata": {},
   "source": [
    "# ДЗ 2.1 Image classification. 16 баллов."
   ]
  },
  {
   "cell_type": "markdown",
   "id": "01b40a0d",
   "metadata": {},
   "source": [
    "В качестве датасета будет использовать вот этот - https://www.kaggle.com/datasets/slothkong/10-monkey-species"
   ]
  },
  {
   "cell_type": "markdown",
   "id": "fb4a6ca6",
   "metadata": {},
   "source": [
    "# Dataset"
   ]
  },
  {
   "cell_type": "code",
   "execution_count": 1,
   "id": "09644a34",
   "metadata": {},
   "outputs": [],
   "source": [
    "##TODO##"
   ]
  },
  {
   "cell_type": "markdown",
   "id": "dd827c83",
   "metadata": {},
   "source": [
    "# Dataloader"
   ]
  },
  {
   "cell_type": "code",
   "execution_count": 2,
   "id": "4cd79c45",
   "metadata": {},
   "outputs": [],
   "source": [
    "##TODO##"
   ]
  },
  {
   "cell_type": "markdown",
   "id": "7b6b4931",
   "metadata": {},
   "source": [
    "## ResNet50."
   ]
  },
  {
   "cell_type": "markdown",
   "id": "7509a28f",
   "metadata": {},
   "source": [
    "Реализуйте ResNet50. Чтобы вспомнить архитектуру, обратитесь к лекции + оригинальной статье авторов+google.\n",
    "\n",
    "Если хотите реализовать что-то поинтереснее (ViT) - делайте, будет учтено."
   ]
  },
  {
   "cell_type": "markdown",
   "id": "1e4097d4",
   "metadata": {},
   "source": [
    "Что будет оцениваться в задании:\n",
    "* ResNet50 from scratch **6 баллов**\n",
    "* добавьте аугментаций, напишите краткое саммари почему выбрали именно такой набор аугментаций. **1 балл**\n",
    "* дописать логику обучения модели **2 балла**\n",
    "* дописать логику тестирования модели **1 балл**\n",
    "* возьмите еще 2 модели из зоопарка моделей [torchvision](https://pytorch.org/vision/stable/models.html?), зафайнтюньте на наш датасет. Сравните их между собой и вашей реализацией. **4 балла**\n",
    "* обязательно в конце напишите общий отчет о проделанной работе. Для лучшей модели проведите анализ метрик и ошибок, постройте confusion_matrix и classification report **2 балла**\n",
    "* графики обучения обязательно должны присутсвовать\n",
    "\n",
    "**NOTE**: рядом лежит ноутбук с baseline solution, вы можете отталкиваться от него, если хотите."
   ]
  },
  {
   "cell_type": "code",
   "execution_count": null,
   "id": "8ac22004",
   "metadata": {},
   "outputs": [],
   "source": [
    "class VGG16(nn.Module):\n",
    "    def __init__():\n",
    "        ###TODO###\n",
    "    def forward(self, x):\n",
    "        ###TODO###\n",
    "        return  out"
   ]
  },
  {
   "cell_type": "markdown",
   "id": "b5fa3ed5",
   "metadata": {},
   "source": [
    "# Train"
   ]
  },
  {
   "cell_type": "markdown",
   "id": "9848432e",
   "metadata": {},
   "source": [
    "# Test and metrics"
   ]
  },
  {
   "cell_type": "markdown",
   "id": "0f33a7a3",
   "metadata": {},
   "source": [
    "# Summary"
   ]
  },
  {
   "cell_type": "markdown",
   "id": "7deea1bf",
   "metadata": {},
   "source": [
    "# ДЗ 2.2. Object detection. 8 баллов."
   ]
  },
  {
   "cell_type": "markdown",
   "id": "e6ca7bcf",
   "metadata": {},
   "source": [
    "Здесь я прошу вас воспользоваться популярным фреймворком для задачи object detection - YOLOv8. Но, если хотите, можете поиграться с моделями из mmdetection например, или запустить детекцию на DETR. Тоже будет оценено. YOLOv8 выбран как самый простой и удобный вариант. Ссылка на гитхаб и документацию - https://github.com/ultralytics/ultralytics."
   ]
  },
  {
   "cell_type": "markdown",
   "id": "0fcaba02",
   "metadata": {},
   "source": [
    "Вам требуется поставить фреймворк, обучить модель детекции на данных, вывести графики лоссов и метрики на тестовом датасете. Покажите предсказания модели на 10 примерах из тестового набора данных. В этом задании не будет оцениваться каждый пункт по отдельности, а только вся проведенная работа в целом."
   ]
  },
  {
   "cell_type": "markdown",
   "id": "8fee31e4",
   "metadata": {},
   "source": [
    "Обучать лучше на GPU, но на CPU тоже возможно. Маленькая версия YOLO с ресайзом до 320 у меня обучалась около 40 минут на CPU. Данные нужно скачать отсюда - https://public.roboflow.com/object-detection/oxford-pets/1. Имейте ввиду, что вам скорее всего нужно будет поменять пути в `data.yaml`, поставив абсолютные пути до папок. Например:\n",
    "\n",
    "`train: /Users/mark/Desktop/Update820/train` и т.д."
   ]
  }
 ],
 "metadata": {
  "kernelspec": {
   "display_name": "Python 3 (ipykernel)",
   "language": "python",
   "name": "python3"
  },
  "language_info": {
   "codemirror_mode": {
    "name": "ipython",
    "version": 3
   },
   "file_extension": ".py",
   "mimetype": "text/x-python",
   "name": "python",
   "nbconvert_exporter": "python",
   "pygments_lexer": "ipython3",
   "version": "3.10.9"
  }
 },
 "nbformat": 4,
 "nbformat_minor": 5
}
